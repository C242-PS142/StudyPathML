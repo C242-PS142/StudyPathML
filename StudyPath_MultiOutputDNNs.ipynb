{
 "cells": [
  {
   "cell_type": "markdown",
   "metadata": {
    "id": "A_UT-jMXRVFq"
   },
   "source": [
    "##import library"
   ]
  },
  {
   "cell_type": "code",
   "execution_count": 39,
   "metadata": {
    "id": "vzT2v3RgRtm2"
   },
   "outputs": [],
   "source": [
    "# Import libraries\n",
    "import numpy as np\n",
    "import pandas as pd\n",
    "import matplotlib.pyplot as plt\n",
    "\n",
    "# TensorFlow and Keras\n",
    "import tensorflow as tf\n",
    "from tensorflow.keras.models import Sequential, Model\n",
    "from tensorflow.keras.layers import Dense, Input, Dropout, BatchNormalization\n",
    "from tensorflow.keras.optimizers import Adam\n",
    "from tensorflow.keras.losses import MeanSquaredError\n",
    "from tensorflow.keras.metrics import RootMeanSquaredError\n",
    "\n",
    "# Scikit-learn utilities\n",
    "from sklearn.model_selection import train_test_split\n",
    "from sklearn.preprocessing import MinMaxScaler, StandardScaler\n",
    "from sklearn.metrics import mean_squared_error, r2_score, mean_absolute_error\n",
    "\n",
    "import joblib"
   ]
  },
  {
   "cell_type": "markdown",
   "metadata": {
    "id": "TrIJTO-BRw4_"
   },
   "source": [
    "##Get Dataset"
   ]
  },
  {
   "cell_type": "code",
   "execution_count": 2,
   "metadata": {
    "id": "ZZxAccLpR4Uu"
   },
   "outputs": [],
   "source": [
    "df = pd.read_csv('data-final.csv', delimiter='\\t')"
   ]
  },
  {
   "cell_type": "markdown",
   "metadata": {
    "id": "9mUO3hALSBeG"
   },
   "source": [
    "##Cleaning and selected Dataset\n"
   ]
  },
  {
   "cell_type": "code",
   "execution_count": 3,
   "metadata": {
    "id": "2jkLDTenSFtO"
   },
   "outputs": [],
   "source": [
    "df.drop(df.columns[50:], axis=1, inplace=True)"
   ]
  },
  {
   "cell_type": "code",
   "execution_count": 4,
   "metadata": {
    "colab": {
     "base_uri": "https://localhost:8080/",
     "height": 256
    },
    "id": "e7lqhaRvWbNn",
    "outputId": "efce6314-e36d-408e-a464-bc1c76257310"
   },
   "outputs": [],
   "source": [
    "df.drop_duplicates(inplace=True)\n",
    "df.dropna(axis=0, how='any', inplace=True)"
   ]
  },
  {
   "cell_type": "markdown",
   "metadata": {
    "id": "ZgG7E83GSrHp"
   },
   "source": [
    "##Data Information"
   ]
  },
  {
   "cell_type": "code",
   "execution_count": 5,
   "metadata": {
    "colab": {
     "base_uri": "https://localhost:8080/",
     "height": 350
    },
    "id": "HRg1f96oS4Hr",
    "outputId": "9310df34-3047-4405-bbad-ba1e84eac32b"
   },
   "outputs": [
    {
     "data": {
      "text/html": [
       "<div>\n",
       "<style scoped>\n",
       "    .dataframe tbody tr th:only-of-type {\n",
       "        vertical-align: middle;\n",
       "    }\n",
       "\n",
       "    .dataframe tbody tr th {\n",
       "        vertical-align: top;\n",
       "    }\n",
       "\n",
       "    .dataframe thead th {\n",
       "        text-align: right;\n",
       "    }\n",
       "</style>\n",
       "<table border=\"1\" class=\"dataframe\">\n",
       "  <thead>\n",
       "    <tr style=\"text-align: right;\">\n",
       "      <th></th>\n",
       "      <th>EXT1</th>\n",
       "      <th>EXT2</th>\n",
       "      <th>EXT3</th>\n",
       "      <th>EXT4</th>\n",
       "      <th>EXT5</th>\n",
       "      <th>EXT6</th>\n",
       "      <th>EXT7</th>\n",
       "      <th>EXT8</th>\n",
       "      <th>EXT9</th>\n",
       "      <th>EXT10</th>\n",
       "      <th>...</th>\n",
       "      <th>OPN1</th>\n",
       "      <th>OPN2</th>\n",
       "      <th>OPN3</th>\n",
       "      <th>OPN4</th>\n",
       "      <th>OPN5</th>\n",
       "      <th>OPN6</th>\n",
       "      <th>OPN7</th>\n",
       "      <th>OPN8</th>\n",
       "      <th>OPN9</th>\n",
       "      <th>OPN10</th>\n",
       "    </tr>\n",
       "  </thead>\n",
       "  <tbody>\n",
       "    <tr>\n",
       "      <th>count</th>\n",
       "      <td>1.008786e+06</td>\n",
       "      <td>1.008786e+06</td>\n",
       "      <td>1.008786e+06</td>\n",
       "      <td>1.008786e+06</td>\n",
       "      <td>1.008786e+06</td>\n",
       "      <td>1.008786e+06</td>\n",
       "      <td>1.008786e+06</td>\n",
       "      <td>1.008786e+06</td>\n",
       "      <td>1.008786e+06</td>\n",
       "      <td>1.008786e+06</td>\n",
       "      <td>...</td>\n",
       "      <td>1.008786e+06</td>\n",
       "      <td>1.008786e+06</td>\n",
       "      <td>1.008786e+06</td>\n",
       "      <td>1.008786e+06</td>\n",
       "      <td>1.008786e+06</td>\n",
       "      <td>1.008786e+06</td>\n",
       "      <td>1.008786e+06</td>\n",
       "      <td>1.008786e+06</td>\n",
       "      <td>1.008786e+06</td>\n",
       "      <td>1.008786e+06</td>\n",
       "    </tr>\n",
       "    <tr>\n",
       "      <th>mean</th>\n",
       "      <td>2.652471e+00</td>\n",
       "      <td>2.779167e+00</td>\n",
       "      <td>3.296210e+00</td>\n",
       "      <td>3.148363e+00</td>\n",
       "      <td>3.284682e+00</td>\n",
       "      <td>2.405548e+00</td>\n",
       "      <td>2.777389e+00</td>\n",
       "      <td>3.423722e+00</td>\n",
       "      <td>2.970390e+00</td>\n",
       "      <td>3.565924e+00</td>\n",
       "      <td>...</td>\n",
       "      <td>3.664151e+00</td>\n",
       "      <td>2.078861e+00</td>\n",
       "      <td>4.011187e+00</td>\n",
       "      <td>2.002415e+00</td>\n",
       "      <td>3.803242e+00</td>\n",
       "      <td>1.896757e+00</td>\n",
       "      <td>3.987420e+00</td>\n",
       "      <td>3.190272e+00</td>\n",
       "      <td>4.134585e+00</td>\n",
       "      <td>3.969365e+00</td>\n",
       "    </tr>\n",
       "    <tr>\n",
       "      <th>std</th>\n",
       "      <td>1.258897e+00</td>\n",
       "      <td>1.318125e+00</td>\n",
       "      <td>1.205135e+00</td>\n",
       "      <td>1.228714e+00</td>\n",
       "      <td>1.268462e+00</td>\n",
       "      <td>1.220572e+00</td>\n",
       "      <td>1.395087e+00</td>\n",
       "      <td>1.261760e+00</td>\n",
       "      <td>1.339349e+00</td>\n",
       "      <td>1.294468e+00</td>\n",
       "      <td>...</td>\n",
       "      <td>1.143767e+00</td>\n",
       "      <td>1.107473e+00</td>\n",
       "      <td>1.079427e+00</td>\n",
       "      <td>1.085010e+00</td>\n",
       "      <td>9.742203e-01</td>\n",
       "      <td>1.099323e+00</td>\n",
       "      <td>9.890028e-01</td>\n",
       "      <td>1.246604e+00</td>\n",
       "      <td>1.020795e+00</td>\n",
       "      <td>1.015893e+00</td>\n",
       "    </tr>\n",
       "    <tr>\n",
       "      <th>min</th>\n",
       "      <td>0.000000e+00</td>\n",
       "      <td>0.000000e+00</td>\n",
       "      <td>0.000000e+00</td>\n",
       "      <td>0.000000e+00</td>\n",
       "      <td>0.000000e+00</td>\n",
       "      <td>0.000000e+00</td>\n",
       "      <td>0.000000e+00</td>\n",
       "      <td>0.000000e+00</td>\n",
       "      <td>0.000000e+00</td>\n",
       "      <td>0.000000e+00</td>\n",
       "      <td>...</td>\n",
       "      <td>0.000000e+00</td>\n",
       "      <td>0.000000e+00</td>\n",
       "      <td>0.000000e+00</td>\n",
       "      <td>0.000000e+00</td>\n",
       "      <td>0.000000e+00</td>\n",
       "      <td>0.000000e+00</td>\n",
       "      <td>0.000000e+00</td>\n",
       "      <td>0.000000e+00</td>\n",
       "      <td>0.000000e+00</td>\n",
       "      <td>0.000000e+00</td>\n",
       "    </tr>\n",
       "    <tr>\n",
       "      <th>25%</th>\n",
       "      <td>2.000000e+00</td>\n",
       "      <td>2.000000e+00</td>\n",
       "      <td>2.000000e+00</td>\n",
       "      <td>2.000000e+00</td>\n",
       "      <td>2.000000e+00</td>\n",
       "      <td>1.000000e+00</td>\n",
       "      <td>2.000000e+00</td>\n",
       "      <td>2.000000e+00</td>\n",
       "      <td>2.000000e+00</td>\n",
       "      <td>3.000000e+00</td>\n",
       "      <td>...</td>\n",
       "      <td>3.000000e+00</td>\n",
       "      <td>1.000000e+00</td>\n",
       "      <td>3.000000e+00</td>\n",
       "      <td>1.000000e+00</td>\n",
       "      <td>3.000000e+00</td>\n",
       "      <td>1.000000e+00</td>\n",
       "      <td>3.000000e+00</td>\n",
       "      <td>2.000000e+00</td>\n",
       "      <td>4.000000e+00</td>\n",
       "      <td>3.000000e+00</td>\n",
       "    </tr>\n",
       "    <tr>\n",
       "      <th>50%</th>\n",
       "      <td>3.000000e+00</td>\n",
       "      <td>3.000000e+00</td>\n",
       "      <td>3.000000e+00</td>\n",
       "      <td>3.000000e+00</td>\n",
       "      <td>3.000000e+00</td>\n",
       "      <td>2.000000e+00</td>\n",
       "      <td>3.000000e+00</td>\n",
       "      <td>4.000000e+00</td>\n",
       "      <td>3.000000e+00</td>\n",
       "      <td>4.000000e+00</td>\n",
       "      <td>...</td>\n",
       "      <td>4.000000e+00</td>\n",
       "      <td>2.000000e+00</td>\n",
       "      <td>4.000000e+00</td>\n",
       "      <td>2.000000e+00</td>\n",
       "      <td>4.000000e+00</td>\n",
       "      <td>2.000000e+00</td>\n",
       "      <td>4.000000e+00</td>\n",
       "      <td>3.000000e+00</td>\n",
       "      <td>4.000000e+00</td>\n",
       "      <td>4.000000e+00</td>\n",
       "    </tr>\n",
       "    <tr>\n",
       "      <th>75%</th>\n",
       "      <td>4.000000e+00</td>\n",
       "      <td>4.000000e+00</td>\n",
       "      <td>4.000000e+00</td>\n",
       "      <td>4.000000e+00</td>\n",
       "      <td>4.000000e+00</td>\n",
       "      <td>3.000000e+00</td>\n",
       "      <td>4.000000e+00</td>\n",
       "      <td>4.000000e+00</td>\n",
       "      <td>4.000000e+00</td>\n",
       "      <td>5.000000e+00</td>\n",
       "      <td>...</td>\n",
       "      <td>5.000000e+00</td>\n",
       "      <td>3.000000e+00</td>\n",
       "      <td>5.000000e+00</td>\n",
       "      <td>3.000000e+00</td>\n",
       "      <td>5.000000e+00</td>\n",
       "      <td>2.000000e+00</td>\n",
       "      <td>5.000000e+00</td>\n",
       "      <td>4.000000e+00</td>\n",
       "      <td>5.000000e+00</td>\n",
       "      <td>5.000000e+00</td>\n",
       "    </tr>\n",
       "    <tr>\n",
       "      <th>max</th>\n",
       "      <td>5.000000e+00</td>\n",
       "      <td>5.000000e+00</td>\n",
       "      <td>5.000000e+00</td>\n",
       "      <td>5.000000e+00</td>\n",
       "      <td>5.000000e+00</td>\n",
       "      <td>5.000000e+00</td>\n",
       "      <td>5.000000e+00</td>\n",
       "      <td>5.000000e+00</td>\n",
       "      <td>5.000000e+00</td>\n",
       "      <td>5.000000e+00</td>\n",
       "      <td>...</td>\n",
       "      <td>5.000000e+00</td>\n",
       "      <td>5.000000e+00</td>\n",
       "      <td>5.000000e+00</td>\n",
       "      <td>5.000000e+00</td>\n",
       "      <td>5.000000e+00</td>\n",
       "      <td>5.000000e+00</td>\n",
       "      <td>5.000000e+00</td>\n",
       "      <td>5.000000e+00</td>\n",
       "      <td>5.000000e+00</td>\n",
       "      <td>5.000000e+00</td>\n",
       "    </tr>\n",
       "  </tbody>\n",
       "</table>\n",
       "<p>8 rows × 50 columns</p>\n",
       "</div>"
      ],
      "text/plain": [
       "               EXT1          EXT2          EXT3          EXT4          EXT5  \\\n",
       "count  1.008786e+06  1.008786e+06  1.008786e+06  1.008786e+06  1.008786e+06   \n",
       "mean   2.652471e+00  2.779167e+00  3.296210e+00  3.148363e+00  3.284682e+00   \n",
       "std    1.258897e+00  1.318125e+00  1.205135e+00  1.228714e+00  1.268462e+00   \n",
       "min    0.000000e+00  0.000000e+00  0.000000e+00  0.000000e+00  0.000000e+00   \n",
       "25%    2.000000e+00  2.000000e+00  2.000000e+00  2.000000e+00  2.000000e+00   \n",
       "50%    3.000000e+00  3.000000e+00  3.000000e+00  3.000000e+00  3.000000e+00   \n",
       "75%    4.000000e+00  4.000000e+00  4.000000e+00  4.000000e+00  4.000000e+00   \n",
       "max    5.000000e+00  5.000000e+00  5.000000e+00  5.000000e+00  5.000000e+00   \n",
       "\n",
       "               EXT6          EXT7          EXT8          EXT9         EXT10  \\\n",
       "count  1.008786e+06  1.008786e+06  1.008786e+06  1.008786e+06  1.008786e+06   \n",
       "mean   2.405548e+00  2.777389e+00  3.423722e+00  2.970390e+00  3.565924e+00   \n",
       "std    1.220572e+00  1.395087e+00  1.261760e+00  1.339349e+00  1.294468e+00   \n",
       "min    0.000000e+00  0.000000e+00  0.000000e+00  0.000000e+00  0.000000e+00   \n",
       "25%    1.000000e+00  2.000000e+00  2.000000e+00  2.000000e+00  3.000000e+00   \n",
       "50%    2.000000e+00  3.000000e+00  4.000000e+00  3.000000e+00  4.000000e+00   \n",
       "75%    3.000000e+00  4.000000e+00  4.000000e+00  4.000000e+00  5.000000e+00   \n",
       "max    5.000000e+00  5.000000e+00  5.000000e+00  5.000000e+00  5.000000e+00   \n",
       "\n",
       "       ...          OPN1          OPN2          OPN3          OPN4  \\\n",
       "count  ...  1.008786e+06  1.008786e+06  1.008786e+06  1.008786e+06   \n",
       "mean   ...  3.664151e+00  2.078861e+00  4.011187e+00  2.002415e+00   \n",
       "std    ...  1.143767e+00  1.107473e+00  1.079427e+00  1.085010e+00   \n",
       "min    ...  0.000000e+00  0.000000e+00  0.000000e+00  0.000000e+00   \n",
       "25%    ...  3.000000e+00  1.000000e+00  3.000000e+00  1.000000e+00   \n",
       "50%    ...  4.000000e+00  2.000000e+00  4.000000e+00  2.000000e+00   \n",
       "75%    ...  5.000000e+00  3.000000e+00  5.000000e+00  3.000000e+00   \n",
       "max    ...  5.000000e+00  5.000000e+00  5.000000e+00  5.000000e+00   \n",
       "\n",
       "               OPN5          OPN6          OPN7          OPN8          OPN9  \\\n",
       "count  1.008786e+06  1.008786e+06  1.008786e+06  1.008786e+06  1.008786e+06   \n",
       "mean   3.803242e+00  1.896757e+00  3.987420e+00  3.190272e+00  4.134585e+00   \n",
       "std    9.742203e-01  1.099323e+00  9.890028e-01  1.246604e+00  1.020795e+00   \n",
       "min    0.000000e+00  0.000000e+00  0.000000e+00  0.000000e+00  0.000000e+00   \n",
       "25%    3.000000e+00  1.000000e+00  3.000000e+00  2.000000e+00  4.000000e+00   \n",
       "50%    4.000000e+00  2.000000e+00  4.000000e+00  3.000000e+00  4.000000e+00   \n",
       "75%    5.000000e+00  2.000000e+00  5.000000e+00  4.000000e+00  5.000000e+00   \n",
       "max    5.000000e+00  5.000000e+00  5.000000e+00  5.000000e+00  5.000000e+00   \n",
       "\n",
       "              OPN10  \n",
       "count  1.008786e+06  \n",
       "mean   3.969365e+00  \n",
       "std    1.015893e+00  \n",
       "min    0.000000e+00  \n",
       "25%    3.000000e+00  \n",
       "50%    4.000000e+00  \n",
       "75%    5.000000e+00  \n",
       "max    5.000000e+00  \n",
       "\n",
       "[8 rows x 50 columns]"
      ]
     },
     "execution_count": 5,
     "metadata": {},
     "output_type": "execute_result"
    }
   ],
   "source": [
    "df.describe(include='all')"
   ]
  },
  {
   "cell_type": "code",
   "execution_count": 6,
   "metadata": {
    "colab": {
     "base_uri": "https://localhost:8080/",
     "height": 1000
    },
    "id": "2fQrAwNyS8Bq",
    "outputId": "c39db1c9-26e7-49b5-bf8a-a63d547b553f"
   },
   "outputs": [
    {
     "data": {
      "text/plain": [
       "EXT1     0\n",
       "EXT2     0\n",
       "EXT3     0\n",
       "EXT4     0\n",
       "EXT5     0\n",
       "EXT6     0\n",
       "EXT7     0\n",
       "EXT8     0\n",
       "EXT9     0\n",
       "EXT10    0\n",
       "EST1     0\n",
       "EST2     0\n",
       "EST3     0\n",
       "EST4     0\n",
       "EST5     0\n",
       "EST6     0\n",
       "EST7     0\n",
       "EST8     0\n",
       "EST9     0\n",
       "EST10    0\n",
       "AGR1     0\n",
       "AGR2     0\n",
       "AGR3     0\n",
       "AGR4     0\n",
       "AGR5     0\n",
       "AGR6     0\n",
       "AGR7     0\n",
       "AGR8     0\n",
       "AGR9     0\n",
       "AGR10    0\n",
       "CSN1     0\n",
       "CSN2     0\n",
       "CSN3     0\n",
       "CSN4     0\n",
       "CSN5     0\n",
       "CSN6     0\n",
       "CSN7     0\n",
       "CSN8     0\n",
       "CSN9     0\n",
       "CSN10    0\n",
       "OPN1     0\n",
       "OPN2     0\n",
       "OPN3     0\n",
       "OPN4     0\n",
       "OPN5     0\n",
       "OPN6     0\n",
       "OPN7     0\n",
       "OPN8     0\n",
       "OPN9     0\n",
       "OPN10    0\n",
       "dtype: int64"
      ]
     },
     "execution_count": 6,
     "metadata": {},
     "output_type": "execute_result"
    }
   ],
   "source": [
    "df.isnull().sum()"
   ]
  },
  {
   "cell_type": "code",
   "execution_count": 7,
   "metadata": {
    "id": "jKeQpA-VMdpr"
   },
   "outputs": [],
   "source": [
    "for column in df.columns:\n",
    "    unique_values = df[column].unique()\n",
    "    #print(f\"Kolom {column} memiliki nilai unik: {unique_values}\")"
   ]
  },
  {
   "cell_type": "code",
   "execution_count": 8,
   "metadata": {
    "colab": {
     "base_uri": "https://localhost:8080/"
    },
    "id": "ClLG_cgEMjpj",
    "outputId": "3c86f64c-53a8-403f-fc85-b32bf085a55a"
   },
   "outputs": [
    {
     "name": "stdout",
     "output_type": "stream",
     "text": [
      "Semua nilai unik di Data: [0. 1. 2. 3. 4. 5.]\n"
     ]
    }
   ],
   "source": [
    "all_unique_values = np.unique(df.values)\n",
    "print(f\"Semua nilai unik di Data: {all_unique_values}\")"
   ]
  },
  {
   "cell_type": "code",
   "execution_count": 9,
   "metadata": {
    "id": "GSJ3_VGPMkVE"
   },
   "outputs": [],
   "source": [
    "#Menganti Nilai 0 dengan Nilai yang sering muncul\n",
    "\n",
    "df = df.replace(0, np.nan)\n",
    "df = df.apply(lambda column: column.fillna(column.mode()[0]))"
   ]
  },
  {
   "cell_type": "code",
   "execution_count": 10,
   "metadata": {
    "colab": {
     "base_uri": "https://localhost:8080/"
    },
    "id": "XERDComMMo5D",
    "outputId": "de00a67f-a6c4-4fc2-d65f-61d5638f18a9"
   },
   "outputs": [
    {
     "name": "stdout",
     "output_type": "stream",
     "text": [
      "[1. 2. 3. 4. 5.]\n"
     ]
    }
   ],
   "source": [
    "new_value = np.unique(df.values)\n",
    "print(new_value)"
   ]
  },
  {
   "cell_type": "markdown",
   "metadata": {},
   "source": [
    "##Mengambil 100.000 dataset"
   ]
  },
  {
   "cell_type": "code",
   "execution_count": 11,
   "metadata": {},
   "outputs": [
    {
     "data": {
      "text/plain": [
       "(100000, 50)"
      ]
     },
     "execution_count": 11,
     "metadata": {},
     "output_type": "execute_result"
    }
   ],
   "source": [
    "df = df[:100000]\n",
    "df.shape"
   ]
  },
  {
   "cell_type": "markdown",
   "metadata": {
    "id": "ZMw3rvFvY8tF"
   },
   "source": [
    "##Formula for big five score calculation\n",
    "###n = nilai dari feature\n",
    "1. EXT = 20 + n0 - n1 + n2 - n3 + n4 - n5 + n6 - n7 + n8 - n9\n",
    "2. EST = 38 - n10 + n11 − n12 + n13 − n14 − n15 − n16 −n17 − n18 − n19\n",
    "3. AGR = 14 - n20 + n21 - n22 + n23 - n24 + n25 - n26 + n27 +n28 + n29\n",
    "4. CSN = 14 + n30 - n31 + n32 - n33 + n34 - n35 + n36 - n37 + n38 + n39\n",
    "5. OPN = 8 + n40 - n41 + n42 - n43 + n44 - n45 + n46 + n47 +48 + n49\n"
   ]
  },
  {
   "cell_type": "markdown",
   "metadata": {
    "id": "8AWbTojHK1TK"
   },
   "source": [
    "##Add target feature column EXT"
   ]
  },
  {
   "cell_type": "code",
   "execution_count": 12,
   "metadata": {
    "colab": {
     "base_uri": "https://localhost:8080/"
    },
    "id": "0mXRSMP6M3xm",
    "outputId": "51a5160c-d09a-442e-c198-063ef8d35876"
   },
   "outputs": [
    {
     "name": "stdout",
     "output_type": "stream",
     "text": [
      "[36. 10. 15. ...  4. 19. 22.]\n"
     ]
    }
   ],
   "source": [
    "columns_ext = [0, 1, 2, 3, 4, 5, 6, 7, 8, 9]\n",
    "\n",
    "result_ext= []\n",
    "\n",
    "for index, row in df.iterrows():\n",
    "    result = 20\n",
    "    for i, col in enumerate(columns_ext):\n",
    "        if i % 2 == 0:\n",
    "            result += row.iloc[col]\n",
    "        else:\n",
    "            result -= row.iloc[col]\n",
    "    result_ext.append(result)\n",
    "\n",
    "result_ext = np.array(result_ext)\n",
    "result_ext[result_ext == 0] = 1\n",
    "\n",
    "print(result_ext)"
   ]
  },
  {
   "cell_type": "markdown",
   "metadata": {
    "id": "EgjwpHr6GOAv"
   },
   "source": [
    "##Add Feature column EST"
   ]
  },
  {
   "cell_type": "code",
   "execution_count": 13,
   "metadata": {
    "colab": {
     "base_uri": "https://localhost:8080/"
    },
    "id": "3BJfxkHBGWKG",
    "outputId": "ebe8bdcd-705c-44bc-a8a0-7cdb8a7220e7"
   },
   "outputs": [
    {
     "name": "stdout",
     "output_type": "stream",
     "text": [
      "[26. 25. 24. ...  1. 25. 21.]\n"
     ]
    }
   ],
   "source": [
    "columns_est = [10, 11, 12, 13, 14, 15, 16, 17, 18, 19]\n",
    "\n",
    "result_est= []\n",
    "\n",
    "for index, row in df.iterrows():\n",
    "    result = 38\n",
    "    for col in columns_est:\n",
    "        if col == 11 or col == 13:\n",
    "            result += row.iloc[col]\n",
    "        else:\n",
    "            result -= row.iloc[col]\n",
    "    result_est.append(result)\n",
    "\n",
    "result_est = np.array(result_est)\n",
    "result_est[result_est == 0] = 1\n",
    "\n",
    "print(result_est)"
   ]
  },
  {
   "cell_type": "markdown",
   "metadata": {
    "id": "WQpye-CNG-8B"
   },
   "source": [
    "##Add Feature AGR\n"
   ]
  },
  {
   "cell_type": "code",
   "execution_count": 14,
   "metadata": {
    "colab": {
     "base_uri": "https://localhost:8080/"
    },
    "id": "wkVMUHDZHC-B",
    "outputId": "540705d0-3c4c-4f90-c9d9-4931df8a734a"
   },
   "outputs": [
    {
     "name": "stdout",
     "output_type": "stream",
     "text": [
      "[29. 34. 32. ... 28. 29. 37.]\n"
     ]
    }
   ],
   "source": [
    "columns_agr = [20, 21, 22, 23, 24, 25, 26, 27, 28, 29]\n",
    "\n",
    "result_agr= []\n",
    "\n",
    "for index, row in df.iterrows():\n",
    "    result = 14\n",
    "    for col in columns_agr:\n",
    "        if col in [20, 22, 24, 26]:\n",
    "            result -= row.iloc[col]\n",
    "        else:\n",
    "            result += row.iloc[col]\n",
    "    result_agr.append(result)\n",
    "\n",
    "result_agr = np.array(result_agr)\n",
    "result_agr[result_agr == 0] = 1\n",
    "\n",
    "\n",
    "print(result_agr)"
   ]
  },
  {
   "cell_type": "markdown",
   "metadata": {
    "id": "xIA0BhQMHZU4"
   },
   "source": [
    "##Add Feature CSN"
   ]
  },
  {
   "cell_type": "code",
   "execution_count": 15,
   "metadata": {
    "colab": {
     "base_uri": "https://localhost:8080/"
    },
    "id": "q6CJyA1yHcop",
    "outputId": "f9733a4d-1887-4db0-ae67-9e7ef448aa78"
   },
   "outputs": [
    {
     "name": "stdout",
     "output_type": "stream",
     "text": [
      "[22. 27. 24. ... 28. 23. 32.]\n"
     ]
    }
   ],
   "source": [
    "columns_csn = [30, 31, 32, 33, 34, 35, 36, 37, 38, 39]\n",
    "\n",
    "result_csn= []\n",
    "\n",
    "for index, row in df.iterrows():\n",
    "    result = 14\n",
    "    for col in columns_csn:\n",
    "        if col in [31, 33, 35, 37]:\n",
    "            result -= row.iloc[col]\n",
    "        else:\n",
    "            result += row.iloc[col]\n",
    "    result_csn.append(result)\n",
    "\n",
    "result_csn = np.array(result_csn)\n",
    "result_csn[result_csn == 0] = 1\n",
    "\n",
    "print(result_csn)"
   ]
  },
  {
   "cell_type": "markdown",
   "metadata": {
    "id": "MqcXJn3zHthQ"
   },
   "source": [
    "##Add Feature OPN"
   ]
  },
  {
   "cell_type": "code",
   "execution_count": 16,
   "metadata": {
    "colab": {
     "base_uri": "https://localhost:8080/"
    },
    "id": "OFUvsgWYHwlw",
    "outputId": "e7103e3b-8379-4033-899a-10a613564714"
   },
   "outputs": [
    {
     "name": "stdout",
     "output_type": "stream",
     "text": [
      "[35. 25. 31. ... 29. 40. 27.]\n"
     ]
    }
   ],
   "source": [
    "columns_opn = [40, 41, 42, 43, 44, 45, 46, 47, 48, 49]\n",
    "\n",
    "result_opn= []\n",
    "\n",
    "for index, row in df.iterrows():\n",
    "    result = 8\n",
    "    for col in columns_opn:\n",
    "        if col in [41, 43, 45]:\n",
    "            result -= row.iloc[col]\n",
    "        else:\n",
    "            result += row.iloc[col]\n",
    "    result_opn.append(result)\n",
    "\n",
    "result_opn = np.array(result_opn)\n",
    "result_opn[result_opn == 0] = 1\n",
    "\n",
    "print(result_opn)"
   ]
  },
  {
   "cell_type": "code",
   "execution_count": 17,
   "metadata": {
    "colab": {
     "base_uri": "https://localhost:8080/"
    },
    "id": "jpYdhybXM-qZ",
    "outputId": "c32bd71d-94d1-4cab-a1ba-4df4e5bf817b"
   },
   "outputs": [
    {
     "name": "stdout",
     "output_type": "stream",
     "text": [
      "[ 1.  2.  3.  4.  5.  6.  7.  8.  9. 10. 11. 12. 13. 14. 15. 16. 17. 18.\n",
      " 19. 20. 21. 22. 23. 24. 25. 26. 27. 28. 29. 30. 31. 32. 33. 34. 35. 36.\n",
      " 37. 38. 39. 40.]\n",
      "[ 1.  2.  3.  4.  5.  6.  7.  8.  9. 10. 11. 12. 13. 14. 15. 16. 17. 18.\n",
      " 19. 20. 21. 22. 23. 24. 25. 26. 27. 28. 29. 30. 31. 32. 33. 34. 35. 36.\n",
      " 37. 38. 39. 40.]\n",
      "[ 1.  2.  3.  4.  5.  6.  7.  8.  9. 10. 11. 12. 13. 14. 15. 16. 17. 18.\n",
      " 19. 20. 21. 22. 23. 24. 25. 26. 27. 28. 29. 30. 31. 32. 33. 34. 35. 36.\n",
      " 37. 38. 39. 40.]\n",
      "[ 1.  2.  3.  4.  5.  6.  7.  8.  9. 10. 11. 12. 13. 14. 15. 16. 17. 18.\n",
      " 19. 20. 21. 22. 23. 24. 25. 26. 27. 28. 29. 30. 31. 32. 33. 34. 35. 36.\n",
      " 37. 38. 39. 40.]\n",
      "[ 1.  2.  3.  4.  5.  6.  7.  8.  9. 10. 11. 12. 13. 14. 15. 16. 17. 18.\n",
      " 19. 20. 21. 22. 23. 24. 25. 26. 27. 28. 29. 30. 31. 32. 33. 34. 35. 36.\n",
      " 37. 38. 39. 40.]\n"
     ]
    }
   ],
   "source": [
    "unique_ext = np.unique(result_ext)\n",
    "print(unique_ext)\n",
    "\n",
    "unique_est = np.unique(result_est)\n",
    "print(unique_est)\n",
    "\n",
    "unique_agr = np.unique(result_agr)\n",
    "print(unique_agr)\n",
    "\n",
    "unique_csn = np.unique(result_csn)\n",
    "print(unique_csn)\n",
    "\n",
    "unique_opn = np.unique(result_opn)\n",
    "print(unique_opn)"
   ]
  },
  {
   "cell_type": "markdown",
   "metadata": {
    "id": "cx_gC9QFLQCR"
   },
   "source": [
    "##Konversi Result ke Persen dan memisahkan data training dan data testing"
   ]
  },
  {
   "cell_type": "code",
   "execution_count": 18,
   "metadata": {
    "colab": {
     "base_uri": "https://localhost:8080/"
    },
    "id": "SU3j7QhQNSH6",
    "outputId": "f496da9e-18de-4efd-811a-9a009bd89ade"
   },
   "outputs": [
    {
     "name": "stdout",
     "output_type": "stream",
     "text": [
      "        EXT1  EXT2  EXT3  EXT4  EXT5  EXT6  EXT7  EXT8  EXT9  EXT10  ...  \\\n",
      "0        4.0   1.0   5.0   2.0   5.0   1.0   5.0   2.0   4.0    1.0  ...   \n",
      "1        3.0   5.0   3.0   4.0   3.0   3.0   2.0   5.0   1.0    5.0  ...   \n",
      "2        2.0   3.0   4.0   4.0   3.0   2.0   1.0   3.0   2.0    5.0  ...   \n",
      "3        2.0   2.0   2.0   3.0   4.0   2.0   2.0   4.0   1.0    4.0  ...   \n",
      "4        3.0   3.0   3.0   3.0   5.0   3.0   3.0   5.0   3.0    4.0  ...   \n",
      "...      ...   ...   ...   ...   ...   ...   ...   ...   ...    ...  ...   \n",
      "100415   2.0   3.0   4.0   4.0   3.0   1.0   3.0   4.0   3.0    3.0  ...   \n",
      "100416   4.0   2.0   5.0   3.0   3.0   1.0   3.0   5.0   1.0    3.0  ...   \n",
      "100417   1.0   5.0   2.0   4.0   2.0   4.0   1.0   5.0   1.0    5.0  ...   \n",
      "100418   3.0   3.0   4.0   3.0   3.0   2.0   4.0   5.0   2.0    4.0  ...   \n",
      "100419   3.0   3.0   3.0   3.0   4.0   3.0   3.0   3.0   3.0    2.0  ...   \n",
      "\n",
      "        OPN1  OPN2  OPN3  OPN4  OPN5  OPN6  OPN7  OPN8  OPN9  OPN10  \n",
      "0        5.0   1.0   4.0   1.0   4.0   1.0   5.0   3.0   4.0    5.0  \n",
      "1        1.0   2.0   4.0   2.0   3.0   1.0   4.0   2.0   5.0    3.0  \n",
      "2        5.0   1.0   2.0   1.0   4.0   2.0   5.0   3.0   4.0    4.0  \n",
      "3        4.0   2.0   5.0   2.0   3.0   1.0   4.0   4.0   3.0    3.0  \n",
      "4        5.0   1.0   5.0   1.0   5.0   1.0   5.0   3.0   5.0    5.0  \n",
      "...      ...   ...   ...   ...   ...   ...   ...   ...   ...    ...  \n",
      "100415   5.0   1.0   5.0   1.0   4.0   1.0   5.0   3.0   5.0    4.0  \n",
      "100416   3.0   1.0   5.0   1.0   5.0   5.0   5.0   1.0   5.0    5.0  \n",
      "100417   5.0   2.0   5.0   2.0   3.0   3.0   4.0   4.0   5.0    2.0  \n",
      "100418   5.0   1.0   5.0   1.0   5.0   1.0   5.0   5.0   5.0    5.0  \n",
      "100419   3.0   1.0   3.0   4.0   4.0   1.0   5.0   3.0   3.0    4.0  \n",
      "\n",
      "[100000 rows x 50 columns]\n"
     ]
    }
   ],
   "source": [
    "x_input = df.iloc[:,0 : 50]\n",
    "print(x_input)"
   ]
  },
  {
   "cell_type": "code",
   "execution_count": 19,
   "metadata": {
    "id": "efbaNOq6NhOt"
   },
   "outputs": [],
   "source": [
    "y_ext = np.array((result_ext*2.5/100), dtype=float)\n",
    "y_ext = np.round(y_ext, decimals=2)\n",
    "\n",
    "y_est = np.array((result_est*2.5/100), dtype=float)\n",
    "y_est = np.round(y_est, decimals=2)\n",
    "\n",
    "y_agr = np.array((result_agr*2.5/100), dtype=float)\n",
    "y_agr = np.round(y_agr, decimals=2)\n",
    "\n",
    "y_csn = np.array((result_csn*2.5/100), dtype=float)\n",
    "y_csn = np.round(y_csn, decimals=2)\n",
    "\n",
    "y_opn = np.array((result_opn*2.5/100), dtype=float)\n",
    "y_opn = np.round(y_opn, decimals=2)"
   ]
  },
  {
   "cell_type": "code",
   "execution_count": 20,
   "metadata": {
    "colab": {
     "base_uri": "https://localhost:8080/"
    },
    "id": "hEYRalFBNnmU",
    "outputId": "86211510-a918-4d5c-9b62-ed30e6d54953"
   },
   "outputs": [
    {
     "name": "stdout",
     "output_type": "stream",
     "text": [
      "[0.02 0.05 0.08 0.1  0.12 0.15 0.18 0.2  0.22 0.25 0.28 0.3  0.32 0.35\n",
      " 0.38 0.4  0.42 0.45 0.48 0.5  0.52 0.55 0.57 0.6  0.62 0.65 0.68 0.7\n",
      " 0.72 0.75 0.78 0.8  0.82 0.85 0.88 0.9  0.92 0.95 0.98 1.  ]\n"
     ]
    }
   ],
   "source": [
    "print(np.unique(y_ext))"
   ]
  },
  {
   "cell_type": "code",
   "execution_count": 21,
   "metadata": {
    "colab": {
     "base_uri": "https://localhost:8080/",
     "height": 256
    },
    "id": "ZSwPUDcLX1Yo",
    "outputId": "0447cc34-685e-4150-eaa2-8edf8e4c5692"
   },
   "outputs": [
    {
     "data": {
      "text/html": [
       "<div>\n",
       "<style scoped>\n",
       "    .dataframe tbody tr th:only-of-type {\n",
       "        vertical-align: middle;\n",
       "    }\n",
       "\n",
       "    .dataframe tbody tr th {\n",
       "        vertical-align: top;\n",
       "    }\n",
       "\n",
       "    .dataframe thead th {\n",
       "        text-align: right;\n",
       "    }\n",
       "</style>\n",
       "<table border=\"1\" class=\"dataframe\">\n",
       "  <thead>\n",
       "    <tr style=\"text-align: right;\">\n",
       "      <th></th>\n",
       "      <th>EXT1</th>\n",
       "      <th>EXT2</th>\n",
       "      <th>EXT3</th>\n",
       "      <th>EXT4</th>\n",
       "      <th>EXT5</th>\n",
       "      <th>EXT6</th>\n",
       "      <th>EXT7</th>\n",
       "      <th>EXT8</th>\n",
       "      <th>EXT9</th>\n",
       "      <th>EXT10</th>\n",
       "      <th>...</th>\n",
       "      <th>OPN6</th>\n",
       "      <th>OPN7</th>\n",
       "      <th>OPN8</th>\n",
       "      <th>OPN9</th>\n",
       "      <th>OPN10</th>\n",
       "      <th>y_EXT</th>\n",
       "      <th>y_EST</th>\n",
       "      <th>y_AGR</th>\n",
       "      <th>y_CSN</th>\n",
       "      <th>y_OPN</th>\n",
       "    </tr>\n",
       "  </thead>\n",
       "  <tbody>\n",
       "    <tr>\n",
       "      <th>0</th>\n",
       "      <td>4.0</td>\n",
       "      <td>1.0</td>\n",
       "      <td>5.0</td>\n",
       "      <td>2.0</td>\n",
       "      <td>5.0</td>\n",
       "      <td>1.0</td>\n",
       "      <td>5.0</td>\n",
       "      <td>2.0</td>\n",
       "      <td>4.0</td>\n",
       "      <td>1.0</td>\n",
       "      <td>...</td>\n",
       "      <td>1.0</td>\n",
       "      <td>5.0</td>\n",
       "      <td>3.0</td>\n",
       "      <td>4.0</td>\n",
       "      <td>5.0</td>\n",
       "      <td>0.90</td>\n",
       "      <td>0.65</td>\n",
       "      <td>0.72</td>\n",
       "      <td>0.55</td>\n",
       "      <td>0.88</td>\n",
       "    </tr>\n",
       "    <tr>\n",
       "      <th>1</th>\n",
       "      <td>3.0</td>\n",
       "      <td>5.0</td>\n",
       "      <td>3.0</td>\n",
       "      <td>4.0</td>\n",
       "      <td>3.0</td>\n",
       "      <td>3.0</td>\n",
       "      <td>2.0</td>\n",
       "      <td>5.0</td>\n",
       "      <td>1.0</td>\n",
       "      <td>5.0</td>\n",
       "      <td>...</td>\n",
       "      <td>1.0</td>\n",
       "      <td>4.0</td>\n",
       "      <td>2.0</td>\n",
       "      <td>5.0</td>\n",
       "      <td>3.0</td>\n",
       "      <td>0.25</td>\n",
       "      <td>0.62</td>\n",
       "      <td>0.85</td>\n",
       "      <td>0.68</td>\n",
       "      <td>0.62</td>\n",
       "    </tr>\n",
       "    <tr>\n",
       "      <th>2</th>\n",
       "      <td>2.0</td>\n",
       "      <td>3.0</td>\n",
       "      <td>4.0</td>\n",
       "      <td>4.0</td>\n",
       "      <td>3.0</td>\n",
       "      <td>2.0</td>\n",
       "      <td>1.0</td>\n",
       "      <td>3.0</td>\n",
       "      <td>2.0</td>\n",
       "      <td>5.0</td>\n",
       "      <td>...</td>\n",
       "      <td>2.0</td>\n",
       "      <td>5.0</td>\n",
       "      <td>3.0</td>\n",
       "      <td>4.0</td>\n",
       "      <td>4.0</td>\n",
       "      <td>0.38</td>\n",
       "      <td>0.60</td>\n",
       "      <td>0.80</td>\n",
       "      <td>0.60</td>\n",
       "      <td>0.78</td>\n",
       "    </tr>\n",
       "    <tr>\n",
       "      <th>3</th>\n",
       "      <td>2.0</td>\n",
       "      <td>2.0</td>\n",
       "      <td>2.0</td>\n",
       "      <td>3.0</td>\n",
       "      <td>4.0</td>\n",
       "      <td>2.0</td>\n",
       "      <td>2.0</td>\n",
       "      <td>4.0</td>\n",
       "      <td>1.0</td>\n",
       "      <td>4.0</td>\n",
       "      <td>...</td>\n",
       "      <td>1.0</td>\n",
       "      <td>4.0</td>\n",
       "      <td>4.0</td>\n",
       "      <td>3.0</td>\n",
       "      <td>3.0</td>\n",
       "      <td>0.40</td>\n",
       "      <td>0.52</td>\n",
       "      <td>0.70</td>\n",
       "      <td>0.38</td>\n",
       "      <td>0.72</td>\n",
       "    </tr>\n",
       "    <tr>\n",
       "      <th>4</th>\n",
       "      <td>3.0</td>\n",
       "      <td>3.0</td>\n",
       "      <td>3.0</td>\n",
       "      <td>3.0</td>\n",
       "      <td>5.0</td>\n",
       "      <td>3.0</td>\n",
       "      <td>3.0</td>\n",
       "      <td>5.0</td>\n",
       "      <td>3.0</td>\n",
       "      <td>4.0</td>\n",
       "      <td>...</td>\n",
       "      <td>1.0</td>\n",
       "      <td>5.0</td>\n",
       "      <td>3.0</td>\n",
       "      <td>5.0</td>\n",
       "      <td>5.0</td>\n",
       "      <td>0.48</td>\n",
       "      <td>0.78</td>\n",
       "      <td>0.90</td>\n",
       "      <td>0.95</td>\n",
       "      <td>0.95</td>\n",
       "    </tr>\n",
       "  </tbody>\n",
       "</table>\n",
       "<p>5 rows × 55 columns</p>\n",
       "</div>"
      ],
      "text/plain": [
       "   EXT1  EXT2  EXT3  EXT4  EXT5  EXT6  EXT7  EXT8  EXT9  EXT10  ...  OPN6  \\\n",
       "0   4.0   1.0   5.0   2.0   5.0   1.0   5.0   2.0   4.0    1.0  ...   1.0   \n",
       "1   3.0   5.0   3.0   4.0   3.0   3.0   2.0   5.0   1.0    5.0  ...   1.0   \n",
       "2   2.0   3.0   4.0   4.0   3.0   2.0   1.0   3.0   2.0    5.0  ...   2.0   \n",
       "3   2.0   2.0   2.0   3.0   4.0   2.0   2.0   4.0   1.0    4.0  ...   1.0   \n",
       "4   3.0   3.0   3.0   3.0   5.0   3.0   3.0   5.0   3.0    4.0  ...   1.0   \n",
       "\n",
       "   OPN7  OPN8  OPN9  OPN10  y_EXT  y_EST  y_AGR  y_CSN  y_OPN  \n",
       "0   5.0   3.0   4.0    5.0   0.90   0.65   0.72   0.55   0.88  \n",
       "1   4.0   2.0   5.0    3.0   0.25   0.62   0.85   0.68   0.62  \n",
       "2   5.0   3.0   4.0    4.0   0.38   0.60   0.80   0.60   0.78  \n",
       "3   4.0   4.0   3.0    3.0   0.40   0.52   0.70   0.38   0.72  \n",
       "4   5.0   3.0   5.0    5.0   0.48   0.78   0.90   0.95   0.95  \n",
       "\n",
       "[5 rows x 55 columns]"
      ]
     },
     "execution_count": 21,
     "metadata": {},
     "output_type": "execute_result"
    }
   ],
   "source": [
    "df['y_EXT'] = y_ext\n",
    "df['y_EST'] = y_est\n",
    "df['y_AGR'] = y_agr\n",
    "df['y_CSN'] = y_csn\n",
    "df['y_OPN'] = y_opn\n",
    "df.head()"
   ]
  },
  {
   "cell_type": "code",
   "execution_count": null,
   "metadata": {
    "id": "UAm6wYen6WGS"
   },
   "outputs": [],
   "source": [
    "# Save right dataset\n",
    "df.to_csv('dataCleanBFP.csv', index=False)"
   ]
  },
  {
   "cell_type": "code",
   "execution_count": 22,
   "metadata": {},
   "outputs": [
    {
     "name": "stdout",
     "output_type": "stream",
     "text": [
      "Shape of X: (100000, 50)\n",
      "Shape of y: (100000, 5)\n"
     ]
    }
   ],
   "source": [
    "y_output = np.array([y_ext, y_est, y_agr, y_csn, y_opn])\n",
    "y_output = y_output.T\n",
    "print(\"Shape of X:\", x_input.shape)\n",
    "print(\"Shape of y:\", y_output.shape)"
   ]
  },
  {
   "cell_type": "code",
   "execution_count": 23,
   "metadata": {},
   "outputs": [
    {
     "name": "stdout",
     "output_type": "stream",
     "text": [
      "Training set: (68000, 50) (68000, 5)\n",
      "Validation set: (17000, 50) (17000, 5)\n",
      "Test set: (15000, 50) (15000, 5)\n"
     ]
    }
   ],
   "source": [
    "# Split data menjadi training+validation dan test set\n",
    "X_train, X_test, y_train, y_test = train_test_split(x_input, y_output, test_size=0.15, random_state=42)\n",
    "\n",
    "# Split training+validation menjadi training dan validation\n",
    "X_train, X_val, y_train, y_val = train_test_split(X_train, y_train, test_size=0.2, random_state=42)\n",
    "\n",
    "print(\"Training set:\", X_train.shape, y_train.shape)\n",
    "print(\"Validation set:\", X_val.shape, y_val.shape)\n",
    "print(\"Test set:\", X_test.shape, y_test.shape)\n"
   ]
  },
  {
   "cell_type": "code",
   "execution_count": 24,
   "metadata": {},
   "outputs": [],
   "source": [
    "# Scaling input\n",
    "scaler_X = MinMaxScaler()\n",
    "X_train_scaled = scaler_X.fit_transform(X_train)\n",
    "X_val_scaled = scaler_X.transform(X_val)\n",
    "X_test_scaled = scaler_X.transform(X_test)\n",
    "\n",
    "# Scaling output\n",
    "scaler_y = MinMaxScaler()\n",
    "y_train_scaled = scaler_y.fit_transform(y_train)\n",
    "y_val_scaled = scaler_y.transform(y_val)\n",
    "y_test_scaled = scaler_y.transform(y_test)"
   ]
  },
  {
   "cell_type": "markdown",
   "metadata": {},
   "source": [
    "##Save Scaler"
   ]
  },
  {
   "cell_type": "code",
   "execution_count": 41,
   "metadata": {},
   "outputs": [
    {
     "data": {
      "text/plain": [
       "['scaler_y.pkl']"
      ]
     },
     "execution_count": 41,
     "metadata": {},
     "output_type": "execute_result"
    }
   ],
   "source": [
    "joblib.dump(scaler_X, 'scaler_x.pkl')\n",
    "joblib.dump(scaler_y, 'scaler_y.pkl')"
   ]
  },
  {
   "cell_type": "markdown",
   "metadata": {},
   "source": [
    "##Membuat model"
   ]
  },
  {
   "cell_type": "code",
   "execution_count": 25,
   "metadata": {},
   "outputs": [],
   "source": [
    "def build_custom_model():\n",
    "    model = Sequential()\n",
    "\n",
    "    model.add(Dense(416, activation='relu', input_shape=(50,))) \n",
    "    model.add(Dropout(0.2))\n",
    "\n",
    "    model.add(Dense(96, activation='relu')) \n",
    "    model.add(Dropout(0.2))  \n",
    "\n",
    "    model.add(Dense(256, activation='relu')) \n",
    "    model.add(Dropout(0.4)) \n",
    "\n",
    "    model.add(Dense(384, activation='relu'))\n",
    "    model.add(Dropout(0.1)) \n",
    "\n",
    "    model.add(Dense(224, activation='relu'))\n",
    "    model.add(Dropout(0.4)) \n",
    "\n",
    "    model.add(Dense(288, activation='relu')) \n",
    "    model.add(Dropout(0.3)) \n",
    "\n",
    "    model.add(Dense(5, activation='sigmoid')) \n",
    "\n",
    "    learning_rate = 0.00025095748994520946\n",
    "    optimizer = Adam(learning_rate=learning_rate)\n",
    "\n",
    "    model.compile(optimizer=optimizer, loss='mse', metrics=['mae', 'RootMeanSquaredError'])\n",
    "\n",
    "    return model"
   ]
  },
  {
   "cell_type": "code",
   "execution_count": 26,
   "metadata": {},
   "outputs": [
    {
     "name": "stderr",
     "output_type": "stream",
     "text": [
      "c:\\Users\\Lenovo\\AppData\\Local\\Programs\\Python\\Python312\\Lib\\site-packages\\keras\\src\\layers\\core\\dense.py:87: UserWarning: Do not pass an `input_shape`/`input_dim` argument to a layer. When using Sequential models, prefer using an `Input(shape)` object as the first layer in the model instead.\n",
      "  super().__init__(activity_regularizer=activity_regularizer, **kwargs)\n"
     ]
    },
    {
     "data": {
      "text/html": [
       "<pre style=\"white-space:pre;overflow-x:auto;line-height:normal;font-family:Menlo,'DejaVu Sans Mono',consolas,'Courier New',monospace\"><span style=\"font-weight: bold\">Model: \"sequential\"</span>\n",
       "</pre>\n"
      ],
      "text/plain": [
       "\u001b[1mModel: \"sequential\"\u001b[0m\n"
      ]
     },
     "metadata": {},
     "output_type": "display_data"
    },
    {
     "data": {
      "text/html": [
       "<pre style=\"white-space:pre;overflow-x:auto;line-height:normal;font-family:Menlo,'DejaVu Sans Mono',consolas,'Courier New',monospace\">┏━━━━━━━━━━━━━━━━━━━━━━━━━━━━━━━━━┳━━━━━━━━━━━━━━━━━━━━━━━━┳━━━━━━━━━━━━━━━┓\n",
       "┃<span style=\"font-weight: bold\"> Layer (type)                    </span>┃<span style=\"font-weight: bold\"> Output Shape           </span>┃<span style=\"font-weight: bold\">       Param # </span>┃\n",
       "┡━━━━━━━━━━━━━━━━━━━━━━━━━━━━━━━━━╇━━━━━━━━━━━━━━━━━━━━━━━━╇━━━━━━━━━━━━━━━┩\n",
       "│ dense (<span style=\"color: #0087ff; text-decoration-color: #0087ff\">Dense</span>)                   │ (<span style=\"color: #00d7ff; text-decoration-color: #00d7ff\">None</span>, <span style=\"color: #00af00; text-decoration-color: #00af00\">416</span>)            │        <span style=\"color: #00af00; text-decoration-color: #00af00\">21,216</span> │\n",
       "├─────────────────────────────────┼────────────────────────┼───────────────┤\n",
       "│ dropout (<span style=\"color: #0087ff; text-decoration-color: #0087ff\">Dropout</span>)               │ (<span style=\"color: #00d7ff; text-decoration-color: #00d7ff\">None</span>, <span style=\"color: #00af00; text-decoration-color: #00af00\">416</span>)            │             <span style=\"color: #00af00; text-decoration-color: #00af00\">0</span> │\n",
       "├─────────────────────────────────┼────────────────────────┼───────────────┤\n",
       "│ dense_1 (<span style=\"color: #0087ff; text-decoration-color: #0087ff\">Dense</span>)                 │ (<span style=\"color: #00d7ff; text-decoration-color: #00d7ff\">None</span>, <span style=\"color: #00af00; text-decoration-color: #00af00\">96</span>)             │        <span style=\"color: #00af00; text-decoration-color: #00af00\">40,032</span> │\n",
       "├─────────────────────────────────┼────────────────────────┼───────────────┤\n",
       "│ dropout_1 (<span style=\"color: #0087ff; text-decoration-color: #0087ff\">Dropout</span>)             │ (<span style=\"color: #00d7ff; text-decoration-color: #00d7ff\">None</span>, <span style=\"color: #00af00; text-decoration-color: #00af00\">96</span>)             │             <span style=\"color: #00af00; text-decoration-color: #00af00\">0</span> │\n",
       "├─────────────────────────────────┼────────────────────────┼───────────────┤\n",
       "│ dense_2 (<span style=\"color: #0087ff; text-decoration-color: #0087ff\">Dense</span>)                 │ (<span style=\"color: #00d7ff; text-decoration-color: #00d7ff\">None</span>, <span style=\"color: #00af00; text-decoration-color: #00af00\">256</span>)            │        <span style=\"color: #00af00; text-decoration-color: #00af00\">24,832</span> │\n",
       "├─────────────────────────────────┼────────────────────────┼───────────────┤\n",
       "│ dropout_2 (<span style=\"color: #0087ff; text-decoration-color: #0087ff\">Dropout</span>)             │ (<span style=\"color: #00d7ff; text-decoration-color: #00d7ff\">None</span>, <span style=\"color: #00af00; text-decoration-color: #00af00\">256</span>)            │             <span style=\"color: #00af00; text-decoration-color: #00af00\">0</span> │\n",
       "├─────────────────────────────────┼────────────────────────┼───────────────┤\n",
       "│ dense_3 (<span style=\"color: #0087ff; text-decoration-color: #0087ff\">Dense</span>)                 │ (<span style=\"color: #00d7ff; text-decoration-color: #00d7ff\">None</span>, <span style=\"color: #00af00; text-decoration-color: #00af00\">384</span>)            │        <span style=\"color: #00af00; text-decoration-color: #00af00\">98,688</span> │\n",
       "├─────────────────────────────────┼────────────────────────┼───────────────┤\n",
       "│ dropout_3 (<span style=\"color: #0087ff; text-decoration-color: #0087ff\">Dropout</span>)             │ (<span style=\"color: #00d7ff; text-decoration-color: #00d7ff\">None</span>, <span style=\"color: #00af00; text-decoration-color: #00af00\">384</span>)            │             <span style=\"color: #00af00; text-decoration-color: #00af00\">0</span> │\n",
       "├─────────────────────────────────┼────────────────────────┼───────────────┤\n",
       "│ dense_4 (<span style=\"color: #0087ff; text-decoration-color: #0087ff\">Dense</span>)                 │ (<span style=\"color: #00d7ff; text-decoration-color: #00d7ff\">None</span>, <span style=\"color: #00af00; text-decoration-color: #00af00\">224</span>)            │        <span style=\"color: #00af00; text-decoration-color: #00af00\">86,240</span> │\n",
       "├─────────────────────────────────┼────────────────────────┼───────────────┤\n",
       "│ dropout_4 (<span style=\"color: #0087ff; text-decoration-color: #0087ff\">Dropout</span>)             │ (<span style=\"color: #00d7ff; text-decoration-color: #00d7ff\">None</span>, <span style=\"color: #00af00; text-decoration-color: #00af00\">224</span>)            │             <span style=\"color: #00af00; text-decoration-color: #00af00\">0</span> │\n",
       "├─────────────────────────────────┼────────────────────────┼───────────────┤\n",
       "│ dense_5 (<span style=\"color: #0087ff; text-decoration-color: #0087ff\">Dense</span>)                 │ (<span style=\"color: #00d7ff; text-decoration-color: #00d7ff\">None</span>, <span style=\"color: #00af00; text-decoration-color: #00af00\">288</span>)            │        <span style=\"color: #00af00; text-decoration-color: #00af00\">64,800</span> │\n",
       "├─────────────────────────────────┼────────────────────────┼───────────────┤\n",
       "│ dropout_5 (<span style=\"color: #0087ff; text-decoration-color: #0087ff\">Dropout</span>)             │ (<span style=\"color: #00d7ff; text-decoration-color: #00d7ff\">None</span>, <span style=\"color: #00af00; text-decoration-color: #00af00\">288</span>)            │             <span style=\"color: #00af00; text-decoration-color: #00af00\">0</span> │\n",
       "├─────────────────────────────────┼────────────────────────┼───────────────┤\n",
       "│ dense_6 (<span style=\"color: #0087ff; text-decoration-color: #0087ff\">Dense</span>)                 │ (<span style=\"color: #00d7ff; text-decoration-color: #00d7ff\">None</span>, <span style=\"color: #00af00; text-decoration-color: #00af00\">5</span>)              │         <span style=\"color: #00af00; text-decoration-color: #00af00\">1,445</span> │\n",
       "└─────────────────────────────────┴────────────────────────┴───────────────┘\n",
       "</pre>\n"
      ],
      "text/plain": [
       "┏━━━━━━━━━━━━━━━━━━━━━━━━━━━━━━━━━┳━━━━━━━━━━━━━━━━━━━━━━━━┳━━━━━━━━━━━━━━━┓\n",
       "┃\u001b[1m \u001b[0m\u001b[1mLayer (type)                   \u001b[0m\u001b[1m \u001b[0m┃\u001b[1m \u001b[0m\u001b[1mOutput Shape          \u001b[0m\u001b[1m \u001b[0m┃\u001b[1m \u001b[0m\u001b[1m      Param #\u001b[0m\u001b[1m \u001b[0m┃\n",
       "┡━━━━━━━━━━━━━━━━━━━━━━━━━━━━━━━━━╇━━━━━━━━━━━━━━━━━━━━━━━━╇━━━━━━━━━━━━━━━┩\n",
       "│ dense (\u001b[38;5;33mDense\u001b[0m)                   │ (\u001b[38;5;45mNone\u001b[0m, \u001b[38;5;34m416\u001b[0m)            │        \u001b[38;5;34m21,216\u001b[0m │\n",
       "├─────────────────────────────────┼────────────────────────┼───────────────┤\n",
       "│ dropout (\u001b[38;5;33mDropout\u001b[0m)               │ (\u001b[38;5;45mNone\u001b[0m, \u001b[38;5;34m416\u001b[0m)            │             \u001b[38;5;34m0\u001b[0m │\n",
       "├─────────────────────────────────┼────────────────────────┼───────────────┤\n",
       "│ dense_1 (\u001b[38;5;33mDense\u001b[0m)                 │ (\u001b[38;5;45mNone\u001b[0m, \u001b[38;5;34m96\u001b[0m)             │        \u001b[38;5;34m40,032\u001b[0m │\n",
       "├─────────────────────────────────┼────────────────────────┼───────────────┤\n",
       "│ dropout_1 (\u001b[38;5;33mDropout\u001b[0m)             │ (\u001b[38;5;45mNone\u001b[0m, \u001b[38;5;34m96\u001b[0m)             │             \u001b[38;5;34m0\u001b[0m │\n",
       "├─────────────────────────────────┼────────────────────────┼───────────────┤\n",
       "│ dense_2 (\u001b[38;5;33mDense\u001b[0m)                 │ (\u001b[38;5;45mNone\u001b[0m, \u001b[38;5;34m256\u001b[0m)            │        \u001b[38;5;34m24,832\u001b[0m │\n",
       "├─────────────────────────────────┼────────────────────────┼───────────────┤\n",
       "│ dropout_2 (\u001b[38;5;33mDropout\u001b[0m)             │ (\u001b[38;5;45mNone\u001b[0m, \u001b[38;5;34m256\u001b[0m)            │             \u001b[38;5;34m0\u001b[0m │\n",
       "├─────────────────────────────────┼────────────────────────┼───────────────┤\n",
       "│ dense_3 (\u001b[38;5;33mDense\u001b[0m)                 │ (\u001b[38;5;45mNone\u001b[0m, \u001b[38;5;34m384\u001b[0m)            │        \u001b[38;5;34m98,688\u001b[0m │\n",
       "├─────────────────────────────────┼────────────────────────┼───────────────┤\n",
       "│ dropout_3 (\u001b[38;5;33mDropout\u001b[0m)             │ (\u001b[38;5;45mNone\u001b[0m, \u001b[38;5;34m384\u001b[0m)            │             \u001b[38;5;34m0\u001b[0m │\n",
       "├─────────────────────────────────┼────────────────────────┼───────────────┤\n",
       "│ dense_4 (\u001b[38;5;33mDense\u001b[0m)                 │ (\u001b[38;5;45mNone\u001b[0m, \u001b[38;5;34m224\u001b[0m)            │        \u001b[38;5;34m86,240\u001b[0m │\n",
       "├─────────────────────────────────┼────────────────────────┼───────────────┤\n",
       "│ dropout_4 (\u001b[38;5;33mDropout\u001b[0m)             │ (\u001b[38;5;45mNone\u001b[0m, \u001b[38;5;34m224\u001b[0m)            │             \u001b[38;5;34m0\u001b[0m │\n",
       "├─────────────────────────────────┼────────────────────────┼───────────────┤\n",
       "│ dense_5 (\u001b[38;5;33mDense\u001b[0m)                 │ (\u001b[38;5;45mNone\u001b[0m, \u001b[38;5;34m288\u001b[0m)            │        \u001b[38;5;34m64,800\u001b[0m │\n",
       "├─────────────────────────────────┼────────────────────────┼───────────────┤\n",
       "│ dropout_5 (\u001b[38;5;33mDropout\u001b[0m)             │ (\u001b[38;5;45mNone\u001b[0m, \u001b[38;5;34m288\u001b[0m)            │             \u001b[38;5;34m0\u001b[0m │\n",
       "├─────────────────────────────────┼────────────────────────┼───────────────┤\n",
       "│ dense_6 (\u001b[38;5;33mDense\u001b[0m)                 │ (\u001b[38;5;45mNone\u001b[0m, \u001b[38;5;34m5\u001b[0m)              │         \u001b[38;5;34m1,445\u001b[0m │\n",
       "└─────────────────────────────────┴────────────────────────┴───────────────┘\n"
      ]
     },
     "metadata": {},
     "output_type": "display_data"
    },
    {
     "data": {
      "text/html": [
       "<pre style=\"white-space:pre;overflow-x:auto;line-height:normal;font-family:Menlo,'DejaVu Sans Mono',consolas,'Courier New',monospace\"><span style=\"font-weight: bold\"> Total params: </span><span style=\"color: #00af00; text-decoration-color: #00af00\">337,253</span> (1.29 MB)\n",
       "</pre>\n"
      ],
      "text/plain": [
       "\u001b[1m Total params: \u001b[0m\u001b[38;5;34m337,253\u001b[0m (1.29 MB)\n"
      ]
     },
     "metadata": {},
     "output_type": "display_data"
    },
    {
     "data": {
      "text/html": [
       "<pre style=\"white-space:pre;overflow-x:auto;line-height:normal;font-family:Menlo,'DejaVu Sans Mono',consolas,'Courier New',monospace\"><span style=\"font-weight: bold\"> Trainable params: </span><span style=\"color: #00af00; text-decoration-color: #00af00\">337,253</span> (1.29 MB)\n",
       "</pre>\n"
      ],
      "text/plain": [
       "\u001b[1m Trainable params: \u001b[0m\u001b[38;5;34m337,253\u001b[0m (1.29 MB)\n"
      ]
     },
     "metadata": {},
     "output_type": "display_data"
    },
    {
     "data": {
      "text/html": [
       "<pre style=\"white-space:pre;overflow-x:auto;line-height:normal;font-family:Menlo,'DejaVu Sans Mono',consolas,'Courier New',monospace\"><span style=\"font-weight: bold\"> Non-trainable params: </span><span style=\"color: #00af00; text-decoration-color: #00af00\">0</span> (0.00 B)\n",
       "</pre>\n"
      ],
      "text/plain": [
       "\u001b[1m Non-trainable params: \u001b[0m\u001b[38;5;34m0\u001b[0m (0.00 B)\n"
      ]
     },
     "metadata": {},
     "output_type": "display_data"
    }
   ],
   "source": [
    "model = build_custom_model()\n",
    "model.summary()"
   ]
  },
  {
   "cell_type": "code",
   "execution_count": 27,
   "metadata": {},
   "outputs": [
    {
     "name": "stdout",
     "output_type": "stream",
     "text": [
      "Epoch 1/50\n",
      "\u001b[1m2125/2125\u001b[0m \u001b[32m━━━━━━━━━━━━━━━━━━━━\u001b[0m\u001b[37m\u001b[0m \u001b[1m5s\u001b[0m 2ms/step - RootMeanSquaredError: 0.1204 - loss: 0.0153 - mae: 0.0918 - val_RootMeanSquaredError: 0.0367 - val_loss: 0.0013 - val_mae: 0.0288\n",
      "Epoch 2/50\n",
      "\u001b[1m2125/2125\u001b[0m \u001b[32m━━━━━━━━━━━━━━━━━━━━\u001b[0m\u001b[37m\u001b[0m \u001b[1m4s\u001b[0m 2ms/step - RootMeanSquaredError: 0.0686 - loss: 0.0047 - mae: 0.0532 - val_RootMeanSquaredError: 0.0331 - val_loss: 0.0011 - val_mae: 0.0258\n",
      "Epoch 3/50\n",
      "\u001b[1m2125/2125\u001b[0m \u001b[32m━━━━━━━━━━━━━━━━━━━━\u001b[0m\u001b[37m\u001b[0m \u001b[1m4s\u001b[0m 2ms/step - RootMeanSquaredError: 0.0628 - loss: 0.0039 - mae: 0.0486 - val_RootMeanSquaredError: 0.0310 - val_loss: 9.5919e-04 - val_mae: 0.0241\n",
      "Epoch 4/50\n",
      "\u001b[1m2125/2125\u001b[0m \u001b[32m━━━━━━━━━━━━━━━━━━━━\u001b[0m\u001b[37m\u001b[0m \u001b[1m4s\u001b[0m 2ms/step - RootMeanSquaredError: 0.0590 - loss: 0.0035 - mae: 0.0456 - val_RootMeanSquaredError: 0.0302 - val_loss: 9.1419e-04 - val_mae: 0.0237\n",
      "Epoch 5/50\n",
      "\u001b[1m2125/2125\u001b[0m \u001b[32m━━━━━━━━━━━━━━━━━━━━\u001b[0m\u001b[37m\u001b[0m \u001b[1m4s\u001b[0m 2ms/step - RootMeanSquaredError: 0.0562 - loss: 0.0032 - mae: 0.0435 - val_RootMeanSquaredError: 0.0269 - val_loss: 7.2182e-04 - val_mae: 0.0208\n",
      "Epoch 6/50\n",
      "\u001b[1m2125/2125\u001b[0m \u001b[32m━━━━━━━━━━━━━━━━━━━━\u001b[0m\u001b[37m\u001b[0m \u001b[1m4s\u001b[0m 2ms/step - RootMeanSquaredError: 0.0544 - loss: 0.0030 - mae: 0.0420 - val_RootMeanSquaredError: 0.0249 - val_loss: 6.2163e-04 - val_mae: 0.0194\n",
      "Epoch 7/50\n",
      "\u001b[1m2125/2125\u001b[0m \u001b[32m━━━━━━━━━━━━━━━━━━━━\u001b[0m\u001b[37m\u001b[0m \u001b[1m4s\u001b[0m 2ms/step - RootMeanSquaredError: 0.0532 - loss: 0.0028 - mae: 0.0410 - val_RootMeanSquaredError: 0.0261 - val_loss: 6.8035e-04 - val_mae: 0.0204\n",
      "Epoch 8/50\n",
      "\u001b[1m2125/2125\u001b[0m \u001b[32m━━━━━━━━━━━━━━━━━━━━\u001b[0m\u001b[37m\u001b[0m \u001b[1m4s\u001b[0m 2ms/step - RootMeanSquaredError: 0.0516 - loss: 0.0027 - mae: 0.0399 - val_RootMeanSquaredError: 0.0276 - val_loss: 7.6066e-04 - val_mae: 0.0218\n",
      "Epoch 9/50\n",
      "\u001b[1m2125/2125\u001b[0m \u001b[32m━━━━━━━━━━━━━━━━━━━━\u001b[0m\u001b[37m\u001b[0m \u001b[1m4s\u001b[0m 2ms/step - RootMeanSquaredError: 0.0507 - loss: 0.0026 - mae: 0.0391 - val_RootMeanSquaredError: 0.0250 - val_loss: 6.2428e-04 - val_mae: 0.0195\n",
      "Epoch 10/50\n",
      "\u001b[1m2125/2125\u001b[0m \u001b[32m━━━━━━━━━━━━━━━━━━━━\u001b[0m\u001b[37m\u001b[0m \u001b[1m4s\u001b[0m 2ms/step - RootMeanSquaredError: 0.0496 - loss: 0.0025 - mae: 0.0384 - val_RootMeanSquaredError: 0.0261 - val_loss: 6.8069e-04 - val_mae: 0.0207\n",
      "Epoch 11/50\n",
      "\u001b[1m2125/2125\u001b[0m \u001b[32m━━━━━━━━━━━━━━━━━━━━\u001b[0m\u001b[37m\u001b[0m \u001b[1m5s\u001b[0m 2ms/step - RootMeanSquaredError: 0.0491 - loss: 0.0024 - mae: 0.0378 - val_RootMeanSquaredError: 0.0245 - val_loss: 6.0061e-04 - val_mae: 0.0192\n",
      "Epoch 12/50\n",
      "\u001b[1m2125/2125\u001b[0m \u001b[32m━━━━━━━━━━━━━━━━━━━━\u001b[0m\u001b[37m\u001b[0m \u001b[1m5s\u001b[0m 2ms/step - RootMeanSquaredError: 0.0484 - loss: 0.0023 - mae: 0.0373 - val_RootMeanSquaredError: 0.0266 - val_loss: 7.0688e-04 - val_mae: 0.0209\n",
      "Epoch 13/50\n",
      "\u001b[1m2125/2125\u001b[0m \u001b[32m━━━━━━━━━━━━━━━━━━━━\u001b[0m\u001b[37m\u001b[0m \u001b[1m6s\u001b[0m 3ms/step - RootMeanSquaredError: 0.0477 - loss: 0.0023 - mae: 0.0368 - val_RootMeanSquaredError: 0.0265 - val_loss: 7.0318e-04 - val_mae: 0.0211\n",
      "Epoch 14/50\n",
      "\u001b[1m2125/2125\u001b[0m \u001b[32m━━━━━━━━━━━━━━━━━━━━\u001b[0m\u001b[37m\u001b[0m \u001b[1m10s\u001b[0m 2ms/step - RootMeanSquaredError: 0.0473 - loss: 0.0022 - mae: 0.0365 - val_RootMeanSquaredError: 0.0260 - val_loss: 6.7426e-04 - val_mae: 0.0209\n",
      "Epoch 15/50\n",
      "\u001b[1m2125/2125\u001b[0m \u001b[32m━━━━━━━━━━━━━━━━━━━━\u001b[0m\u001b[37m\u001b[0m \u001b[1m9s\u001b[0m 2ms/step - RootMeanSquaredError: 0.0469 - loss: 0.0022 - mae: 0.0362 - val_RootMeanSquaredError: 0.0240 - val_loss: 5.7735e-04 - val_mae: 0.0190\n",
      "Epoch 16/50\n",
      "\u001b[1m2125/2125\u001b[0m \u001b[32m━━━━━━━━━━━━━━━━━━━━\u001b[0m\u001b[37m\u001b[0m \u001b[1m5s\u001b[0m 2ms/step - RootMeanSquaredError: 0.0464 - loss: 0.0022 - mae: 0.0358 - val_RootMeanSquaredError: 0.0245 - val_loss: 6.0177e-04 - val_mae: 0.0191\n",
      "Epoch 17/50\n",
      "\u001b[1m2125/2125\u001b[0m \u001b[32m━━━━━━━━━━━━━━━━━━━━\u001b[0m\u001b[37m\u001b[0m \u001b[1m5s\u001b[0m 2ms/step - RootMeanSquaredError: 0.0460 - loss: 0.0021 - mae: 0.0354 - val_RootMeanSquaredError: 0.0249 - val_loss: 6.1824e-04 - val_mae: 0.0193\n",
      "Epoch 18/50\n",
      "\u001b[1m2125/2125\u001b[0m \u001b[32m━━━━━━━━━━━━━━━━━━━━\u001b[0m\u001b[37m\u001b[0m \u001b[1m5s\u001b[0m 2ms/step - RootMeanSquaredError: 0.0457 - loss: 0.0021 - mae: 0.0352 - val_RootMeanSquaredError: 0.0236 - val_loss: 5.5586e-04 - val_mae: 0.0184\n",
      "Epoch 19/50\n",
      "\u001b[1m2125/2125\u001b[0m \u001b[32m━━━━━━━━━━━━━━━━━━━━\u001b[0m\u001b[37m\u001b[0m \u001b[1m5s\u001b[0m 2ms/step - RootMeanSquaredError: 0.0452 - loss: 0.0020 - mae: 0.0348 - val_RootMeanSquaredError: 0.0238 - val_loss: 5.6666e-04 - val_mae: 0.0186\n",
      "Epoch 20/50\n",
      "\u001b[1m2125/2125\u001b[0m \u001b[32m━━━━━━━━━━━━━━━━━━━━\u001b[0m\u001b[37m\u001b[0m \u001b[1m5s\u001b[0m 2ms/step - RootMeanSquaredError: 0.0449 - loss: 0.0020 - mae: 0.0346 - val_RootMeanSquaredError: 0.0237 - val_loss: 5.5942e-04 - val_mae: 0.0185\n",
      "Epoch 21/50\n",
      "\u001b[1m2125/2125\u001b[0m \u001b[32m━━━━━━━━━━━━━━━━━━━━\u001b[0m\u001b[37m\u001b[0m \u001b[1m5s\u001b[0m 2ms/step - RootMeanSquaredError: 0.0447 - loss: 0.0020 - mae: 0.0344 - val_RootMeanSquaredError: 0.0224 - val_loss: 4.9954e-04 - val_mae: 0.0176\n",
      "Epoch 22/50\n",
      "\u001b[1m2125/2125\u001b[0m \u001b[32m━━━━━━━━━━━━━━━━━━━━\u001b[0m\u001b[37m\u001b[0m \u001b[1m5s\u001b[0m 2ms/step - RootMeanSquaredError: 0.0442 - loss: 0.0020 - mae: 0.0341 - val_RootMeanSquaredError: 0.0244 - val_loss: 5.9318e-04 - val_mae: 0.0193\n",
      "Epoch 23/50\n",
      "\u001b[1m2125/2125\u001b[0m \u001b[32m━━━━━━━━━━━━━━━━━━━━\u001b[0m\u001b[37m\u001b[0m \u001b[1m5s\u001b[0m 2ms/step - RootMeanSquaredError: 0.0439 - loss: 0.0019 - mae: 0.0338 - val_RootMeanSquaredError: 0.0223 - val_loss: 4.9860e-04 - val_mae: 0.0174\n",
      "Epoch 24/50\n",
      "\u001b[1m2125/2125\u001b[0m \u001b[32m━━━━━━━━━━━━━━━━━━━━\u001b[0m\u001b[37m\u001b[0m \u001b[1m5s\u001b[0m 2ms/step - RootMeanSquaredError: 0.0438 - loss: 0.0019 - mae: 0.0338 - val_RootMeanSquaredError: 0.0244 - val_loss: 5.9701e-04 - val_mae: 0.0189\n",
      "Epoch 25/50\n",
      "\u001b[1m2125/2125\u001b[0m \u001b[32m━━━━━━━━━━━━━━━━━━━━\u001b[0m\u001b[37m\u001b[0m \u001b[1m5s\u001b[0m 2ms/step - RootMeanSquaredError: 0.0434 - loss: 0.0019 - mae: 0.0334 - val_RootMeanSquaredError: 0.0243 - val_loss: 5.8851e-04 - val_mae: 0.0187\n",
      "Epoch 26/50\n",
      "\u001b[1m2125/2125\u001b[0m \u001b[32m━━━━━━━━━━━━━━━━━━━━\u001b[0m\u001b[37m\u001b[0m \u001b[1m5s\u001b[0m 2ms/step - RootMeanSquaredError: 0.0433 - loss: 0.0019 - mae: 0.0334 - val_RootMeanSquaredError: 0.0239 - val_loss: 5.7222e-04 - val_mae: 0.0188\n",
      "Epoch 27/50\n",
      "\u001b[1m2125/2125\u001b[0m \u001b[32m━━━━━━━━━━━━━━━━━━━━\u001b[0m\u001b[37m\u001b[0m \u001b[1m5s\u001b[0m 2ms/step - RootMeanSquaredError: 0.0431 - loss: 0.0019 - mae: 0.0332 - val_RootMeanSquaredError: 0.0232 - val_loss: 5.3641e-04 - val_mae: 0.0180\n",
      "Epoch 28/50\n",
      "\u001b[1m2125/2125\u001b[0m \u001b[32m━━━━━━━━━━━━━━━━━━━━\u001b[0m\u001b[37m\u001b[0m \u001b[1m5s\u001b[0m 2ms/step - RootMeanSquaredError: 0.0427 - loss: 0.0018 - mae: 0.0329 - val_RootMeanSquaredError: 0.0231 - val_loss: 5.3264e-04 - val_mae: 0.0180\n",
      "Epoch 29/50\n",
      "\u001b[1m2125/2125\u001b[0m \u001b[32m━━━━━━━━━━━━━━━━━━━━\u001b[0m\u001b[37m\u001b[0m \u001b[1m5s\u001b[0m 2ms/step - RootMeanSquaredError: 0.0425 - loss: 0.0018 - mae: 0.0328 - val_RootMeanSquaredError: 0.0229 - val_loss: 5.2244e-04 - val_mae: 0.0177\n",
      "Epoch 30/50\n",
      "\u001b[1m2125/2125\u001b[0m \u001b[32m━━━━━━━━━━━━━━━━━━━━\u001b[0m\u001b[37m\u001b[0m \u001b[1m5s\u001b[0m 3ms/step - RootMeanSquaredError: 0.0424 - loss: 0.0018 - mae: 0.0326 - val_RootMeanSquaredError: 0.0256 - val_loss: 6.5543e-04 - val_mae: 0.0197\n",
      "Epoch 31/50\n",
      "\u001b[1m2125/2125\u001b[0m \u001b[32m━━━━━━━━━━━━━━━━━━━━\u001b[0m\u001b[37m\u001b[0m \u001b[1m5s\u001b[0m 3ms/step - RootMeanSquaredError: 0.0420 - loss: 0.0018 - mae: 0.0324 - val_RootMeanSquaredError: 0.0234 - val_loss: 5.4710e-04 - val_mae: 0.0179\n",
      "Epoch 32/50\n",
      "\u001b[1m2125/2125\u001b[0m \u001b[32m━━━━━━━━━━━━━━━━━━━━\u001b[0m\u001b[37m\u001b[0m \u001b[1m5s\u001b[0m 3ms/step - RootMeanSquaredError: 0.0421 - loss: 0.0018 - mae: 0.0324 - val_RootMeanSquaredError: 0.0233 - val_loss: 5.4172e-04 - val_mae: 0.0182\n",
      "Epoch 33/50\n",
      "\u001b[1m2125/2125\u001b[0m \u001b[32m━━━━━━━━━━━━━━━━━━━━\u001b[0m\u001b[37m\u001b[0m \u001b[1m5s\u001b[0m 2ms/step - RootMeanSquaredError: 0.0418 - loss: 0.0017 - mae: 0.0321 - val_RootMeanSquaredError: 0.0242 - val_loss: 5.8372e-04 - val_mae: 0.0189\n",
      "Epoch 34/50\n",
      "\u001b[1m2125/2125\u001b[0m \u001b[32m━━━━━━━━━━━━━━━━━━━━\u001b[0m\u001b[37m\u001b[0m \u001b[1m5s\u001b[0m 3ms/step - RootMeanSquaredError: 0.0416 - loss: 0.0017 - mae: 0.0321 - val_RootMeanSquaredError: 0.0248 - val_loss: 6.1634e-04 - val_mae: 0.0193\n",
      "Epoch 35/50\n",
      "\u001b[1m2125/2125\u001b[0m \u001b[32m━━━━━━━━━━━━━━━━━━━━\u001b[0m\u001b[37m\u001b[0m \u001b[1m5s\u001b[0m 3ms/step - RootMeanSquaredError: 0.0412 - loss: 0.0017 - mae: 0.0317 - val_RootMeanSquaredError: 0.0251 - val_loss: 6.3109e-04 - val_mae: 0.0194\n",
      "Epoch 36/50\n",
      "\u001b[1m2125/2125\u001b[0m \u001b[32m━━━━━━━━━━━━━━━━━━━━\u001b[0m\u001b[37m\u001b[0m \u001b[1m5s\u001b[0m 3ms/step - RootMeanSquaredError: 0.0411 - loss: 0.0017 - mae: 0.0317 - val_RootMeanSquaredError: 0.0235 - val_loss: 5.5197e-04 - val_mae: 0.0179\n",
      "Epoch 37/50\n",
      "\u001b[1m2125/2125\u001b[0m \u001b[32m━━━━━━━━━━━━━━━━━━━━\u001b[0m\u001b[37m\u001b[0m \u001b[1m5s\u001b[0m 3ms/step - RootMeanSquaredError: 0.0408 - loss: 0.0017 - mae: 0.0314 - val_RootMeanSquaredError: 0.0238 - val_loss: 5.6598e-04 - val_mae: 0.0182\n",
      "Epoch 38/50\n",
      "\u001b[1m2125/2125\u001b[0m \u001b[32m━━━━━━━━━━━━━━━━━━━━\u001b[0m\u001b[37m\u001b[0m \u001b[1m5s\u001b[0m 2ms/step - RootMeanSquaredError: 0.0407 - loss: 0.0017 - mae: 0.0313 - val_RootMeanSquaredError: 0.0245 - val_loss: 5.9889e-04 - val_mae: 0.0190\n",
      "Epoch 39/50\n",
      "\u001b[1m2125/2125\u001b[0m \u001b[32m━━━━━━━━━━━━━━━━━━━━\u001b[0m\u001b[37m\u001b[0m \u001b[1m6s\u001b[0m 3ms/step - RootMeanSquaredError: 0.0404 - loss: 0.0016 - mae: 0.0311 - val_RootMeanSquaredError: 0.0231 - val_loss: 5.3196e-04 - val_mae: 0.0175\n",
      "Epoch 40/50\n",
      "\u001b[1m2125/2125\u001b[0m \u001b[32m━━━━━━━━━━━━━━━━━━━━\u001b[0m\u001b[37m\u001b[0m \u001b[1m6s\u001b[0m 3ms/step - RootMeanSquaredError: 0.0405 - loss: 0.0016 - mae: 0.0311 - val_RootMeanSquaredError: 0.0253 - val_loss: 6.4177e-04 - val_mae: 0.0192\n",
      "Epoch 41/50\n",
      "\u001b[1m2125/2125\u001b[0m \u001b[32m━━━━━━━━━━━━━━━━━━━━\u001b[0m\u001b[37m\u001b[0m \u001b[1m5s\u001b[0m 2ms/step - RootMeanSquaredError: 0.0400 - loss: 0.0016 - mae: 0.0308 - val_RootMeanSquaredError: 0.0247 - val_loss: 6.1225e-04 - val_mae: 0.0189\n",
      "Epoch 42/50\n",
      "\u001b[1m2125/2125\u001b[0m \u001b[32m━━━━━━━━━━━━━━━━━━━━\u001b[0m\u001b[37m\u001b[0m \u001b[1m6s\u001b[0m 3ms/step - RootMeanSquaredError: 0.0400 - loss: 0.0016 - mae: 0.0308 - val_RootMeanSquaredError: 0.0241 - val_loss: 5.8200e-04 - val_mae: 0.0186\n",
      "Epoch 43/50\n",
      "\u001b[1m2125/2125\u001b[0m \u001b[32m━━━━━━━━━━━━━━━━━━━━\u001b[0m\u001b[37m\u001b[0m \u001b[1m6s\u001b[0m 3ms/step - RootMeanSquaredError: 0.0398 - loss: 0.0016 - mae: 0.0306 - val_RootMeanSquaredError: 0.0249 - val_loss: 6.1919e-04 - val_mae: 0.0191\n",
      "Epoch 44/50\n",
      "\u001b[1m2125/2125\u001b[0m \u001b[32m━━━━━━━━━━━━━━━━━━━━\u001b[0m\u001b[37m\u001b[0m \u001b[1m6s\u001b[0m 3ms/step - RootMeanSquaredError: 0.0396 - loss: 0.0016 - mae: 0.0305 - val_RootMeanSquaredError: 0.0253 - val_loss: 6.4056e-04 - val_mae: 0.0194\n",
      "Epoch 45/50\n",
      "\u001b[1m2125/2125\u001b[0m \u001b[32m━━━━━━━━━━━━━━━━━━━━\u001b[0m\u001b[37m\u001b[0m \u001b[1m6s\u001b[0m 3ms/step - RootMeanSquaredError: 0.0394 - loss: 0.0016 - mae: 0.0303 - val_RootMeanSquaredError: 0.0236 - val_loss: 5.5731e-04 - val_mae: 0.0180\n",
      "Epoch 46/50\n",
      "\u001b[1m2125/2125\u001b[0m \u001b[32m━━━━━━━━━━━━━━━━━━━━\u001b[0m\u001b[37m\u001b[0m \u001b[1m6s\u001b[0m 3ms/step - RootMeanSquaredError: 0.0393 - loss: 0.0015 - mae: 0.0303 - val_RootMeanSquaredError: 0.0236 - val_loss: 5.5499e-04 - val_mae: 0.0180\n",
      "Epoch 47/50\n",
      "\u001b[1m2125/2125\u001b[0m \u001b[32m━━━━━━━━━━━━━━━━━━━━\u001b[0m\u001b[37m\u001b[0m \u001b[1m6s\u001b[0m 3ms/step - RootMeanSquaredError: 0.0390 - loss: 0.0015 - mae: 0.0301 - val_RootMeanSquaredError: 0.0250 - val_loss: 6.2293e-04 - val_mae: 0.0191\n",
      "Epoch 48/50\n",
      "\u001b[1m2125/2125\u001b[0m \u001b[32m━━━━━━━━━━━━━━━━━━━━\u001b[0m\u001b[37m\u001b[0m \u001b[1m6s\u001b[0m 3ms/step - RootMeanSquaredError: 0.0390 - loss: 0.0015 - mae: 0.0300 - val_RootMeanSquaredError: 0.0255 - val_loss: 6.4825e-04 - val_mae: 0.0197\n",
      "Epoch 49/50\n",
      "\u001b[1m2125/2125\u001b[0m \u001b[32m━━━━━━━━━━━━━━━━━━━━\u001b[0m\u001b[37m\u001b[0m \u001b[1m5s\u001b[0m 3ms/step - RootMeanSquaredError: 0.0387 - loss: 0.0015 - mae: 0.0298 - val_RootMeanSquaredError: 0.0243 - val_loss: 5.8994e-04 - val_mae: 0.0187\n",
      "Epoch 50/50\n",
      "\u001b[1m2125/2125\u001b[0m \u001b[32m━━━━━━━━━━━━━━━━━━━━\u001b[0m\u001b[37m\u001b[0m \u001b[1m6s\u001b[0m 3ms/step - RootMeanSquaredError: 0.0386 - loss: 0.0015 - mae: 0.0297 - val_RootMeanSquaredError: 0.0241 - val_loss: 5.8273e-04 - val_mae: 0.0184\n"
     ]
    }
   ],
   "source": [
    "history = model.fit(\n",
    "    X_train_scaled, y_train_scaled, \n",
    "    validation_data=(X_val_scaled, y_val_scaled),\n",
    "    epochs=50, \n",
    "    batch_size=32,\n",
    "    verbose=1\n",
    ")"
   ]
  },
  {
   "cell_type": "code",
   "execution_count": 28,
   "metadata": {},
   "outputs": [
    {
     "name": "stdout",
     "output_type": "stream",
     "text": [
      "\u001b[1m469/469\u001b[0m \u001b[32m━━━━━━━━━━━━━━━━━━━━\u001b[0m\u001b[37m\u001b[0m \u001b[1m0s\u001b[0m 931us/step - RootMeanSquaredError: 0.0242 - loss: 5.8441e-04 - mae: 0.0184\n",
      "Test Loss: 0.000581\n",
      "Test MAE: 0.018374\n",
      "Test RMSE: 0.024094\n"
     ]
    }
   ],
   "source": [
    "test_loss, test_mae, test_rmse = model.evaluate(X_test_scaled, y_test_scaled)\n",
    "print(f\"Test Loss: {test_loss:.6f}\")\n",
    "print(f\"Test MAE: {test_mae:.6f}\")\n",
    "print(f\"Test RMSE: {test_rmse:.6f}\")"
   ]
  },
  {
   "cell_type": "code",
   "execution_count": 29,
   "metadata": {},
   "outputs": [
    {
     "data": {
      "image/png": "[encoded data removed]",
      "text/plain": [
       "<Figure size 1000x600 with 1 Axes>"
      ]
     },
     "metadata": {},
     "output_type": "display_data"
    }
   ],
   "source": [
    "def plot_loss_curve(history):\n",
    "    plt.figure(figsize=(10, 6))\n",
    "    \n",
    "    plt.plot(history.history['loss'], label='Training Loss', color='blue')\n",
    "    \n",
    "    plt.plot(history.history['val_loss'], label='Validation Loss', color='orange')\n",
    "    \n",
    "    plt.xlabel('Epochs')\n",
    "    plt.ylabel('Loss (MSE)')\n",
    "    plt.title('Loss Curve')\n",
    "    plt.legend()\n",
    "    plt.grid(True)\n",
    "    \n",
    "    plt.show()\n",
    "\n",
    "plot_loss_curve(history)\n"
   ]
  },
  {
   "cell_type": "markdown",
   "metadata": {},
   "source": [
    "##Model prediksi dan validasi"
   ]
  },
  {
   "cell_type": "code",
   "execution_count": 30,
   "metadata": {},
   "outputs": [
    {
     "name": "stdout",
     "output_type": "stream",
     "text": [
      "\u001b[1m469/469\u001b[0m \u001b[32m━━━━━━━━━━━━━━━━━━━━\u001b[0m\u001b[37m\u001b[0m \u001b[1m0s\u001b[0m 862us/step\n",
      "\n",
      "Prediction Validation:\n",
      "--------------------------------------------------\n",
      "y_EXT:\n",
      "  R2 Score: 0.9860\n",
      "  RMSE: 0.0268\n",
      "  MAE: 0.0216\n",
      "  True Mean: 0.4902, Predicted Mean: 0.4835, Difference: 0.0067\n",
      "  True Std: 0.2264, Predicted Std: 0.2065, Difference: 0.0199\n",
      "--------------------------------------------------\n"
     ]
    },
    {
     "data": {
      "image/png": "[encoded data removed]",
      "text/plain": [
       "<Figure size 600x400 with 1 Axes>"
      ]
     },
     "metadata": {},
     "output_type": "display_data"
    },
    {
     "name": "stdout",
     "output_type": "stream",
     "text": [
      "y_EST:\n",
      "  R2 Score: 0.9842\n",
      "  RMSE: 0.0262\n",
      "  MAE: 0.0205\n",
      "  True Mean: 0.4825, Predicted Mean: 0.4728, Difference: 0.0097\n",
      "  True Std: 0.2083, Predicted Std: 0.1894, Difference: 0.0189\n",
      "--------------------------------------------------\n"
     ]
    },
    {
     "data": {
      "image/png": "[encoded data removed]",
      "text/plain": [
       "<Figure size 600x400 with 1 Axes>"
      ]
     },
     "metadata": {},
     "output_type": "display_data"
    },
    {
     "name": "stdout",
     "output_type": "stream",
     "text": [
      "y_AGR:\n",
      "  R2 Score: 0.9835\n",
      "  RMSE: 0.0231\n",
      "  MAE: 0.0165\n",
      "  True Mean: 0.6886, Predicted Mean: 0.6947, Difference: 0.0061\n",
      "  True Std: 0.1802, Predicted Std: 0.1637, Difference: 0.0165\n",
      "--------------------------------------------------\n"
     ]
    },
    {
     "data": {
      "image/png": "[encoded data removed]",
      "text/plain": [
       "<Figure size 600x400 with 1 Axes>"
      ]
     },
     "metadata": {},
     "output_type": "display_data"
    },
    {
     "name": "stdout",
     "output_type": "stream",
     "text": [
      "y_CSN:\n",
      "  R2 Score: 0.9834\n",
      "  RMSE: 0.0234\n",
      "  MAE: 0.0182\n",
      "  True Mean: 0.5760, Predicted Mean: 0.5870, Difference: 0.0110\n",
      "  True Std: 0.1815, Predicted Std: 0.1668, Difference: 0.0146\n",
      "--------------------------------------------------\n"
     ]
    },
    {
     "data": {
      "image/png": "[encoded data removed]",
      "text/plain": [
       "<Figure size 600x400 with 1 Axes>"
      ]
     },
     "metadata": {},
     "output_type": "display_data"
    },
    {
     "name": "stdout",
     "output_type": "stream",
     "text": [
      "y_OPN:\n",
      "  R2 Score: 0.9869\n",
      "  RMSE: 0.0174\n",
      "  MAE: 0.0132\n",
      "  True Mean: 0.7126, Predicted Mean: 0.7090, Difference: 0.0035\n",
      "  True Std: 0.1518, Predicted Std: 0.1450, Difference: 0.0068\n",
      "--------------------------------------------------\n"
     ]
    },
    {
     "data": {
      "image/png": "[encoded data removed]",
      "text/plain": [
       "<Figure size 600x400 with 1 Axes>"
      ]
     },
     "metadata": {},
     "output_type": "display_data"
    },
    {
     "name": "stdout",
     "output_type": "stream",
     "text": [
      "\n",
      "Overall Metrics:\n",
      "--------------------------------------------------\n",
      "  Average R2 Score: 0.9848\n",
      "  Average RMSE: 0.0234\n",
      "  Average MAE: 0.0180\n",
      "--------------------------------------------------\n"
     ]
    }
   ],
   "source": [
    "def predict_and_validate(model, X_test, y_test):\n",
    "  \n",
    "    predictions_scaled = model.predict(X_test)\n",
    "    \n",
    "    y_test = np.array(scaler_y.inverse_transform(y_test))\n",
    "    predictions = np.array(scaler_y.inverse_transform(predictions_scaled))\n",
    "\n",
    "    output_names = ['y_EXT', 'y_EST', 'y_AGR', 'y_CSN', 'y_OPN']\n",
    "\n",
    "    print(\"\\nPrediction Validation:\")\n",
    "    print(\"-\" * 50)\n",
    "\n",
    "    r2_scores = []\n",
    "    rmses = []\n",
    "    maes = []\n",
    "\n",
    "    for i, name in enumerate(output_names):\n",
    "    \n",
    "        r2 = r2_score(y_test[:, i], predictions[:, i])\n",
    "        rmse = np.sqrt(mean_squared_error(y_test[:, i], predictions[:, i]))\n",
    "        mae = mean_absolute_error(y_test[:, i], predictions[:, i])\n",
    "\n",
    "        true_mean = np.mean(y_test[:, i])\n",
    "        pred_mean = np.mean(predictions[:, i])\n",
    "        true_std = np.std(y_test[:, i])\n",
    "        pred_std = np.std(predictions[:, i])\n",
    "\n",
    "        r2_scores.append(r2)\n",
    "        rmses.append(rmse)\n",
    "        maes.append(mae)\n",
    "\n",
    "        print(f\"{name}:\")\n",
    "        print(f\"  R2 Score: {r2:.4f}\")\n",
    "        print(f\"  RMSE: {rmse:.4f}\")\n",
    "        print(f\"  MAE: {mae:.4f}\")\n",
    "        print(f\"  True Mean: {true_mean:.4f}, Predicted Mean: {pred_mean:.4f}, Difference: {abs(true_mean - pred_mean):.4f}\")\n",
    "        print(f\"  True Std: {true_std:.4f}, Predicted Std: {pred_std:.4f}, Difference: {abs(true_std - pred_std):.4f}\")\n",
    "        print(\"-\" * 50)\n",
    "\n",
    "        plt.figure(figsize=(6, 4))\n",
    "        plt.scatter(y_test[:, i], predictions[:, i], alpha=0.5, label=f\"Predicted vs True ({name})\")\n",
    "        plt.plot(\n",
    "            [min(y_test[:, i]), max(y_test[:, i])], \n",
    "            [min(y_test[:, i]), max(y_test[:, i])], \n",
    "            'r--', label=\"Perfect Fit\"\n",
    "        )\n",
    "        plt.xlabel(\"True Values\")\n",
    "        plt.ylabel(\"Predicted Values\")\n",
    "        plt.title(f\"True vs Predicted for {name}\")\n",
    "        plt.legend()\n",
    "        plt.grid()\n",
    "        plt.show()\n",
    "\n",
    "    overall_r2 = np.mean(r2_scores)\n",
    "    overall_rmse = np.mean(rmses)\n",
    "    overall_mae = np.mean(maes)\n",
    "\n",
    "    print(\"\\nOverall Metrics:\")\n",
    "    print(\"-\" * 50)\n",
    "    print(f\"  Average R2 Score: {overall_r2:.4f}\")\n",
    "    print(f\"  Average RMSE: {overall_rmse:.4f}\")\n",
    "    print(f\"  Average MAE: {overall_mae:.4f}\")\n",
    "    print(\"-\" * 50)\n",
    "\n",
    "predict_and_validate(model, X_test_scaled, y_test_scaled)\n"
   ]
  },
  {
   "cell_type": "markdown",
   "metadata": {},
   "source": [
    "##Membuat data acak baru untuk prediksi"
   ]
  },
  {
   "cell_type": "code",
   "execution_count": 31,
   "metadata": {},
   "outputs": [
    {
     "name": "stdout",
     "output_type": "stream",
     "text": [
      "\u001b[1m1/1\u001b[0m \u001b[32m━━━━━━━━━━━━━━━━━━━━\u001b[0m\u001b[37m\u001b[0m \u001b[1m0s\u001b[0m 27ms/step\n",
      "\n",
      "Predictions for Random Data (as Percentage):\n",
      "--------------------------------------------------\n",
      "Sample 1:\n",
      "  y_EXT: 54%\n",
      "  y_EST: 52%\n",
      "  y_AGR: 47%\n",
      "  y_CSN: 49%\n",
      "  y_OPN: 49%\n",
      "--------------------------------------------------\n",
      "Sample 2:\n",
      "  y_EXT: 53%\n",
      "  y_EST: 63%\n",
      "  y_AGR: 49%\n",
      "  y_CSN: 67%\n",
      "  y_OPN: 58%\n",
      "--------------------------------------------------\n",
      "Sample 3:\n",
      "  y_EXT: 60%\n",
      "  y_EST: 52%\n",
      "  y_AGR: 46%\n",
      "  y_CSN: 52%\n",
      "  y_OPN: 68%\n",
      "--------------------------------------------------\n",
      "Sample 4:\n",
      "  y_EXT: 42%\n",
      "  y_EST: 49%\n",
      "  y_AGR: 47%\n",
      "  y_CSN: 40%\n",
      "  y_OPN: 43%\n",
      "--------------------------------------------------\n",
      "Sample 5:\n",
      "  y_EXT: 48%\n",
      "  y_EST: 59%\n",
      "  y_AGR: 50%\n",
      "  y_CSN: 46%\n",
      "  y_OPN: 50%\n",
      "--------------------------------------------------\n"
     ]
    },
    {
     "name": "stderr",
     "output_type": "stream",
     "text": [
      "c:\\Users\\Lenovo\\AppData\\Local\\Programs\\Python\\Python312\\Lib\\site-packages\\sklearn\\base.py:493: UserWarning: X does not have valid feature names, but MinMaxScaler was fitted with feature names\n",
      "  warnings.warn(\n"
     ]
    }
   ],
   "source": [
    "def generate_random_data(num_samples, num_features, scaler_X):\n",
    "    random_data = np.random.uniform(1, 5, size=(num_samples, num_features))\n",
    "    random_data = np.round(random_data, decimals=0)\n",
    "    scaled_data = scaler_X.transform(random_data)  \n",
    "    return scaled_data\n",
    "\n",
    "num_samples = 5 \n",
    "num_features = X_test.shape[1]\n",
    "\n",
    "new_data = generate_random_data(num_samples, num_features, scaler_X)\n",
    "\n",
    "predictions_scaled = model.predict(new_data)\n",
    "\n",
    "predictions = scaler_y.inverse_transform(predictions_scaled)\n",
    "\n",
    "predictions_percentage = predictions * 100\n",
    "\n",
    "output_names = ['y_EXT', 'y_EST', 'y_AGR', 'y_CSN', 'y_OPN']\n",
    "print(\"\\nPredictions for Random Data (as Percentage):\")\n",
    "print(\"-\" * 50)\n",
    "for i in range(num_samples):\n",
    "    print(f\"Sample {i+1}:\")\n",
    "    for j, name in enumerate(output_names):\n",
    "        print(f\"  {name}: {predictions_percentage[i, j]:.0f}%\")\n",
    "    print(\"-\" * 50)\n"
   ]
  },
  {
   "cell_type": "markdown",
   "metadata": {},
   "source": [
    "##Manual Testing untuk cek nilai prediksi maximal dan minimal"
   ]
  },
  {
   "cell_type": "code",
   "execution_count": 32,
   "metadata": {},
   "outputs": [],
   "source": [
    "batasAtas = np.array([5., 1., 5., 1., 5., 1., 5., 1., 5., 1., 1., 5., 1., 5., 1., 1., 1.,\n",
    "       1., 1., 1., 1., 5., 1., 5., 1., 5., 1., 5., 5., 5., 5., 1., 5., 1.,\n",
    "       5., 1., 5., 1., 5., 1., 5., 1., 5., 1., 5., 1., 5., 5., 5., 5.])\n",
    "\n",
    "batasBawah = np.array([1., 5., 1., 5., 1., 5., 1., 5., 1., 5., 5., 1., 5., 1., 5., 5., 5.,\n",
    "       5., 5., 5., 5., 1., 5., 1., 5., 1., 5., 1., 1., 1., 1., 5., 1., 5.,\n",
    "       1., 5., 1., 5., 1., 5., 1., 5., 1., 5., 1., 5., 1., 1., 1., 1.])"
   ]
  },
  {
   "cell_type": "code",
   "execution_count": 33,
   "metadata": {},
   "outputs": [],
   "source": [
    "maxi = batasAtas.reshape(1,-1)\n",
    "mini = batasBawah.reshape(1,-1)"
   ]
  },
  {
   "cell_type": "code",
   "execution_count": 34,
   "metadata": {},
   "outputs": [
    {
     "name": "stdout",
     "output_type": "stream",
     "text": [
      "\u001b[1m1/1\u001b[0m \u001b[32m━━━━━━━━━━━━━━━━━━━━\u001b[0m\u001b[37m\u001b[0m \u001b[1m0s\u001b[0m 19ms/step\n",
      "\u001b[1m1/1\u001b[0m \u001b[32m━━━━━━━━━━━━━━━━━━━━\u001b[0m\u001b[37m\u001b[0m \u001b[1m0s\u001b[0m 19ms/step\n",
      "[[0.9999853  0.97102416 1.         0.99999845 1.        ]]\n",
      "[[1.3277500e-05 6.7575954e-12 1.0761325e-03 7.1610017e-03 9.1260942e-03]]\n"
     ]
    }
   ],
   "source": [
    "# test_data = scaler.transform(test_data)\n",
    "predictionMax = model.predict(maxi)\n",
    "predictionMin = model.predict(mini)\n",
    "print(predictionMax)\n",
    "print(predictionMin)"
   ]
  },
  {
   "cell_type": "code",
   "execution_count": 35,
   "metadata": {},
   "outputs": [
    {
     "name": "stdout",
     "output_type": "stream",
     "text": [
      "Nilai Maximal : \n",
      "Prediksi Extroversion: 100 %\n",
      "Prediksi Neuroticism: 97 %\n",
      "Prediksi Agreeable: 100 %\n",
      "Prediksi Conscientious: 100 %\n",
      "Prediksi Openness: 100 %\n",
      "\n",
      "Nilai Minimal : \n",
      "Prediksi Extroversion: 0 %\n",
      "Prediksi Neuroticism: 0 %\n",
      "Prediksi Agreeable: 0 %\n",
      "Prediksi Conscientious: 1 %\n",
      "Prediksi Openness: 1 %\n"
     ]
    }
   ],
   "source": [
    "ext = (predictionMax[0][0]) * 100\n",
    "est = (predictionMax[0][1]) * 100\n",
    "agr = (predictionMax[0][2]) * 100\n",
    "csn = (predictionMax[0][3]) * 100\n",
    "opn = (predictionMax[0][4]) * 100\n",
    "\n",
    "print('Nilai Maximal : ')\n",
    "print(f\"Prediksi Extroversion: {ext:.0f} %\")\n",
    "print(f\"Prediksi Neuroticism: {est:.0f} %\")\n",
    "print(f\"Prediksi Agreeable: {agr:.0f} %\")\n",
    "print(f\"Prediksi Conscientious: {csn:.0f} %\")\n",
    "print(f\"Prediksi Openness: {opn:.0f} %\")\n",
    "print()\n",
    "\n",
    "ext = (predictionMin[0][0]) * 100\n",
    "est = (predictionMin[0][1]) * 100\n",
    "agr = (predictionMin[0][2]) * 100\n",
    "csn = (predictionMin[0][3]) * 100\n",
    "opn = (predictionMin[0][4]) * 100\n",
    "\n",
    "print('Nilai Minimal : ')\n",
    "print(f\"Prediksi Extroversion: {ext:.0f} %\")\n",
    "print(f\"Prediksi Neuroticism: {est:.0f} %\")\n",
    "print(f\"Prediksi Agreeable: {agr:.0f} %\")\n",
    "print(f\"Prediksi Conscientious: {csn:.0f} %\")\n",
    "print(f\"Prediksi Openness: {opn:.0f} %\")"
   ]
  },
  {
   "cell_type": "markdown",
   "metadata": {
    "id": "Qx6sLwd_JlJm"
   },
   "source": [
    "##Save model\n"
   ]
  },
  {
   "cell_type": "code",
   "execution_count": 55,
   "metadata": {
    "colab": {
     "base_uri": "https://localhost:8080/"
    },
    "id": "Tf9lXIydJNpg",
    "outputId": "22ea6c77-761c-4d03-e92d-01fcdf983a8d"
   },
   "outputs": [
    {
     "name": "stderr",
     "output_type": "stream",
     "text": [
      "WARNING:absl:You are saving your model as an HDF5 file via `model.save()` or `keras.saving.save_model(model)`. This file format is considered legacy. We recommend using instead the native Keras format, e.g. `model.save('my_model.keras')` or `keras.saving.save_model(model, 'my_model.keras')`. \n"
     ]
    }
   ],
   "source": [
    "model.save('Model_StudyPath.h5')"
   ]
  }
 ],
 "metadata": {
  "colab": {
   "provenance": []
  },
  "kernelspec": {
   "display_name": "Python 3",
   "language": "python",
   "name": "python3"
  },
  "language_info": {
   "codemirror_mode": {
    "name": "ipython",
    "version": 3
   },
   "file_extension": ".py",
   "mimetype": "text/x-python",
   "name": "python",
   "nbconvert_exporter": "python",
   "pygments_lexer": "ipython3",
   "version": "3.12.0"
  }
 },
 "nbformat": 4,
 "nbformat_minor": 0
}
